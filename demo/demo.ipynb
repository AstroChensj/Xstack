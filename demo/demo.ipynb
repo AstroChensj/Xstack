{
 "cells": [
  {
   "cell_type": "markdown",
   "metadata": {},
   "source": [
    "**A brief overview of <span style=\"font-family: 'Courier New', Courier, monospace; font-weight: 700;\">Xstack</span>**:\n",
    "\n",
    "<span style=\"font-family: 'Courier New', Courier, monospace; font-weight: 700;\">Xstack</span> is a open-source, light-weight code for **X-ray spectral shifting and stacking**. \n",
    "\n",
    "Given the **redshift** of each spectrum in a list, <span style=\"font-family: 'Courier New', Courier, monospace; font-weight: 700;\">Xstack</span> will first shift these spectra *(PHA, counts vs. output energy (channel))* from observed-frame to rest-frame, and then sum them together. The response matrix files *(RMF, the probability that a photon with input energy $E_1$ will be detected with an output energy $E_2$)* and ancillary response files *(ARF, effective area vs. input energy)* are shifted and stacked in a similar way to the spectrum. <span style=\"font-family: 'Courier New', Courier, monospace; font-weight: 700;\">Xstack</span> also supports correction of Galactic absorption, if an additional **NH** value (in units of 1 $\\text{cm}^{-2}$) for each spectrum is given.\n",
    "\n",
    "In this demo, a preliminary example is provided (stacking powerlaws) to help you get started with <span style=\"font-family: 'Courier New', Courier, monospace; font-weight: 700;\">Xstack</span>. Running <span style=\"font-family: 'Courier New', Courier, monospace; font-weight: 700;\">Xstack</span> is very easy: you simply need to specify where the spectral files are stored, along with the redshift and Galactic absorption (if possible). After that, you can run <span style=\"font-family: 'Courier New', Courier, monospace; font-weight: 700;\">Xstack</span> in one go."
   ]
  },
  {
   "cell_type": "code",
   "execution_count": 1,
   "metadata": {},
   "outputs": [],
   "source": [
    "# the main module\n",
    "from Xstack import Xstack\n",
    "from Xstack.Xstack import XstackRunner\n",
    "\n",
    "# some miscellaneous packages for plotting, and generating fake spectra\n",
    "from Xstack.simulate_spec import make_fkspec\n",
    "from Xstack.misc import make_grpflg,make_dataarf_plot,valid_energy_range_plot\n",
    "\n",
    "# the usual packages\n",
    "import numpy as np\n",
    "from matplotlib import pyplot as plt\n",
    "from astropy.io import fits\n",
    "from tqdm import tqdm\n",
    "import os\n",
    "from joblib import Parallel,delayed\n",
    "import subprocess\n",
    "import warnings"
   ]
  },
  {
   "cell_type": "markdown",
   "metadata": {},
   "source": [
    "# **1. Primary example: stacking single powerlaws**\n",
    "***with different redshift, photon indices, and luminosities***"
   ]
  },
  {
   "cell_type": "markdown",
   "metadata": {},
   "source": [
    "I have already generated 200 powerlaws with different redshifts ($0.3<z<2.0$), rest-frame 0.5-10 keV luminosities ($44.5<\\log L_\\text{0.5-10}<45.5$) and photon indices ($1.9<\\Gamma<2.1$), based on the ARF, RMF, and background information of an arbitary *eROSITA* observation (eFEDS ID: 00007). These spectral files are stored in `./data/po/po_spec`. The redshift of each source is recorded as `./data/po/po_spec/{srcid}_po.pi.z`\n",
    "\n",
    "Now let us walk through the basic procedures of running <span style=\"font-family: 'Courier New', Courier, monospace; font-weight: 700;\">Xstack</span>."
   ]
  },
  {
   "cell_type": "markdown",
   "metadata": {},
   "source": [
    "## **Step 1**: Initialize <span style=\"font-family: 'Courier New', Courier, monospace; font-weight: 700;\">Xstack</span>"
   ]
  },
  {
   "cell_type": "markdown",
   "metadata": {},
   "source": [
    "You will first tell <span style=\"font-family: 'Courier New', Courier, monospace; font-weight: 700;\">Xstack</span> where your spectral files are stored. The block below fetches some basic data."
   ]
  },
  {
   "cell_type": "code",
   "execution_count": 2,
   "metadata": {},
   "outputs": [],
   "source": [
    "# fetch some basic data (they have already been generated)\n",
    "pifile_lst = []\n",
    "bkgpifile_lst = []\n",
    "rmffile_lst = []\n",
    "arffile_lst = []\n",
    "z_lst = []\n",
    "\n",
    "for i in range(200):\n",
    "    pifile = \"./data/po/po_spec/%05d_po.pi\"%i\n",
    "    with fits.open(pifile) as hdu:\n",
    "        head = hdu[1].header\n",
    "    path = os.path.dirname(pifile)\n",
    "    bkgpifile = os.path.join(path,head[\"BACKFILE\"])\n",
    "    rmffile = os.path.join(path,head[\"RESPFILE\"])\n",
    "    arffile = os.path.join(path,head[\"ANCRFILE\"])\n",
    "    zfile = os.path.join(path,head[\"ZFILE\"])        # file storing redshift\n",
    "    with open(zfile,\"r\") as f:\n",
    "        z = f.readlines()\n",
    "    z = float(z[0].rstrip())\n",
    "\n",
    "    pifile_lst.append(pifile)\n",
    "    bkgpifile_lst.append(bkgpifile)\n",
    "    rmffile_lst.append(rmffile)\n",
    "    arffile_lst.append(arffile)\n",
    "    z_lst.append(z)"
   ]
  },
  {
   "cell_type": "markdown",
   "metadata": {},
   "source": [
    "Initialize <span style=\"font-family: 'Courier New', Courier, monospace; font-weight: 700;\">Xstack</span> as follows:"
   ]
  },
  {
   "cell_type": "code",
   "execution_count": 3,
   "metadata": {},
   "outputs": [],
   "source": [
    "data_po = XstackRunner(\n",
    "    pifile_lst=pifile_lst,                          # PI file list\n",
    "    arffile_lst=arffile_lst,                        # ARF file list\n",
    "    rmffile_lst=rmffile_lst,                        # RMF file list\n",
    "    z_lst=z_lst,                                    # redshift list\n",
    "    bkgpifile_lst=bkgpifile_lst,                    # bkg PI file list\n",
    "    srcid_lst=np.arange(200),                       # source ID list (can be arbitary)\n",
    "    rspwt_method=\"SHP\",                             # method to calculate response weighting factor for each source (recommended: SHP)\n",
    "    rspproj_gamma=2.0,                              # prior photon index for projecting RSP matrix onto the output energy channel\n",
    "    int_rng=(1.0,2.3),                              # if `arfscal_method`=`SHP`, choose the range to calculate flux\n",
    "    sample_rmf=None,                                # the sample RMF to read input/output energy bin edge (if not specified, the first RMF in `rmffile_lst` will be used)\n",
    "    sample_arf=None,                                # the sample ARF to read input/output energy bin edge (if not specified, the first RMF in `rmffile_lst` will be used)\n",
    "    Nbkggrp=10,                                     # the number of background groups to calculate uncertainty of background\n",
    "    ene_trc=0.2,                                    # energy below which the ARF is manually truncated (e.g., 0.2 keV for eROSITA)\n",
    "    nthreads=10,                                    # number of cpus used for RMF shifting\n",
    "    prefix=\"./data/po/po_\",\t\t\t\t\t\t\t# prefix for all output files\n",
    ")"
   ]
  },
  {
   "cell_type": "markdown",
   "metadata": {},
   "source": [
    "**Some notes:**\n",
    "\n",
    "The X-ray spectrum (PHA, counts vs. output energy (channel)) we observe is the convolution result of the intrinsic model and instrument response. The basic formula that connects these quantities together is:\n",
    "\n",
    "$$\n",
    "\\begin{align}\n",
    "\\lambda_i=\\sum_j R_{ij}\\times A_{j}\\times F_{j}\\times \\Delta t\\times \\Delta E_{j}\n",
    "\\end{align}\n",
    "$$\n",
    "\n",
    "where:\n",
    "* $\\lambda_i$ is the expected photon counts in some output energy channel $i$ (or $E_{i}$). In units of **$\\text{counts}$**.\n",
    "* $R_{ij}$ is the probability that a photon with input energy $E_{j}$ end up in the output energy channel $i$ (or $E_{i}$). Defined by RMF. **Unitless**.\n",
    "* $A_{j}$ is the effective area for photons with input energy $E_{j}$. Defined by ARF. In units of **$\\text{cm}^2$**.\n",
    "* $F_{j}$ is the model for the source. In units of **$\\text{counts}\\ \\text{s}^{-1}\\ \\text{cm}^{-2}\\ \\text{keV}^{-1}$**.\n",
    "* $\\Delta t$ is exposure time. In units of **$\\text{s}$**.\n",
    "* $\\Delta E_{j}$ is the input energy width (usually defined by `ENERG_LO` and `ENERG_HI` in `SPECRESP` extension of ARF or `MATRIX` extension of RMF, as per OGIP standards). In units of **$\\text{keV}$**.\n",
    "\n",
    "If the photon counts are sufficiently large, we can safely infer the underlying physical model from observed spectrum and response, by spectral fitting. However, low-counts X-ray spectra are rather common in astronomical context, especially in the coming era of *eROSITA*. Although fitting individual spectrum is unreliable under this scenario, it is possible to infer the *averaged* physical model from the stacked spectrum of many sources, whose signal-to-noise ratio should be comparable to those high-counts spectra. The stacked spectrum can be formally written as:\n",
    "\n",
    "$$\n",
    "\\begin{align}\n",
    "\\lambda_i^\\text{stack}=\\sum_j R_{ij}^\\text{stack}\\times A_{j}^\\text{stack}\\times F_{j}\\times \\Delta t^\\text{stack}\\times \\Delta E_{j}\n",
    "\\end{align}\n",
    "$$\n",
    "\n",
    "where $R_{ij}^\\text{stack}$ and $A_{j}^\\text{stack}$ are the stacked RMF and stacked ARF, respectively. $F_{j}$ is the averaged model for the spectra to be stacked. $\\Delta t^\\text{stack}$ is the stacked exposure and can generally be taken as $\\Delta t^\\text{stack}=\\Delta t^1+\\Delta t^2+...+\\Delta t^N$, where the superscript $1,2,...,N$ denotes the spectrum ID. The key of X-ray spectral stacking is to find $\\lambda_i^\\text{stack}$, $R_{ij}^\\text{stack}$ and $A_{j}^\\text{stack}$.\n",
    "\n",
    "To achieve as high SNR as possible, <span style=\"font-family: 'Courier New', Courier, monospace; font-weight: 700;\">Xstack</span> sums the rest-frame photon counts of each source directly, without scaling them to a common flux level (which is the common technique of optical spectra stacking). This means that in the output energy channel $i$:\n",
    "\n",
    "$$\n",
    "\\begin{align}\n",
    "\\lambda_i^\\text{stack}=\\lambda_i^1+...+\\lambda_i^N&=\\sum_j R_{ij}^1\\times A_{j}^1\\times F_{j}^1\\times \\Delta t^1\\times \\Delta E_{j}\\\\\n",
    "&+...\\\\\n",
    "&+\\sum_j R_{ij}^N\\times A_{j}^N\\times F_{j}^N\\times \\Delta t^N\\times \\Delta E_{j}\\\\\n",
    "\\end{align}\n",
    "$$\n",
    "\n",
    "where $\\lambda_i^{1,2,...,N}$ are now the **rest-frame** photon counts. \n",
    "\n",
    "To obtain $R_{ij}^\\text{stack}$ and $A_{j}^\\text{stack}$, some prior assumption on the physical models $F_{j}^{1,2,...,N}$ should be made:\n",
    "1. **All sources have same spectral shape and same flux**: $F_{j}^{1}=F_{j}^{2}=...=F_{j}^{N}=F_{j}$. To first order approximation, $R_{ij}^\\text{stack}$ and $A_{j}^\\text{stack}$ can be written as:\n",
    "\n",
    "$$\n",
    "\\begin{align}\n",
    "A_{j}^\\text{stack}&\\approx\\frac{\\Delta t^1}{\\Delta t^\\text{stack}}\\cdot A_{j}^1+...+\\frac{\\Delta t^N}{\\Delta t^\\text{stack}}\\cdot A_{j}^N\\\\\n",
    "R_{ij}^\\text{stack}&\\approx\\frac{\\Delta t^1}{\\Delta t^\\text{stack}}\\cdot R_{ij}^1+...+\\frac{\\Delta t^N}{\\Delta t^\\text{stack}}\\cdot R_{ij}^N\n",
    "\\end{align}\n",
    "$$\n",
    "\n",
    "This ARF and RMF weighting method is specified as `FLX` (flux) in `arfscal_method`.\n",
    "\n",
    "2. **All sources have same spectral shape and same luminosity**: $F_{j}^{1}\\cdot 4\\pi (d_L^1)^2=F_{j}^{2}\\cdot 4\\pi (d_L^2)^2=...=F_{j}^{N}\\cdot 4\\pi (d_L^N)^2=F_{j}\\cdot 4\\pi\\times \\text{1 Mpc}^2$. $d_L$ is luminosity distance. Similar to the `EXP` weighting method, $R_{ij}^\\text{stack}$ and $A_{j}^\\text{stack}$ can be written as:\n",
    "\n",
    "$$\n",
    "\\begin{align}\n",
    "A_{j}^\\text{stack}&\\approx\\frac{\\Delta t^1/(d_L^1)^2}{\\Delta t^\\text{stack}/(\\text{1 Mpc})^2}\\cdot A_{j}^1+...+\\frac{\\Delta t^N/(d_L^N)^2}{\\Delta t^\\text{stack}/(\\text{1 Mpc})^2}\\cdot A_{j}^N\\\\\n",
    "R_{ij}^\\text{stack}&\\approx\\frac{\\Delta t^1/(d_L^1)^2}{\\Delta t^\\text{stack}/(\\text{1 Mpc})^2}\\cdot R_{ij}^1+...+\\frac{\\Delta t^N/(d_L^N)^2}{\\Delta t^\\text{stack}/(\\text{1 Mpc})^2}\\cdot R_{ij}^N\n",
    "\\end{align}\n",
    "$$\n",
    "\n",
    "This ARF and RMF weighting method is specified as `LMN` (luminosity) in `arfscal_method`.\n",
    "\n",
    "3. **All sources have same spectral shape** (recommended): This should be the most unbiased weighting method among the three, as it takes the minimum assumption. Omitting the mathematical details, $R_{ij}^\\text{stack}$ and $A_{j}^\\text{stack}$ can be written as:\n",
    "\n",
    "$$\n",
    "\\begin{align}\n",
    "A_{j}^\\text{stack}&\\approx\\frac{\\sum_\\text{1.0 keV}^\\text{2.3 keV}\\lambda_i^1}{\\sum_\\text{1.0 keV}^\\text{2.3 keV}A_{j}^1\\Delta E_{j}}\\cdot A_{j}^1+...+\\frac{\\sum_\\text{1.0 keV}^\\text{2.3 keV}\\lambda_i^N}{\\sum_\\text{1.0 keV}^\\text{2.3 keV}A_{j}^N\\Delta E_{j}}\\cdot A_{j}^N\\\\\n",
    "R_{ij}^\\text{stack}&\\approx\\frac{\\sum_\\text{1.0 keV}^\\text{2.3 keV}\\lambda_i^1}{\\sum_\\text{1.0 keV}^\\text{2.3 keV}A_{i}^1\\Delta E_{j}}\\cdot R_{ij}^1+...+\\frac{\\sum_\\text{1.0 keV}^\\text{2.3 keV}\\lambda_i^N}{\\sum_\\text{1.0 keV}^\\text{2.3 keV}A_{i}^N\\Delta E_{j}}\\cdot R_{ij}^N\n",
    "\\end{align}\n",
    "$$\n",
    "\n",
    "where `1.0 -- 2.3 keV` is the default integration range, and can be modified by `int_rng`.\n",
    "\n",
    "This ARF and RMF weighting method is specified as `SHP` (shape) in `arfscal_method`."
   ]
  },
  {
   "cell_type": "markdown",
   "metadata": {},
   "source": [
    "## **Step 2**: Run <span style=\"font-family: 'Courier New', Courier, monospace; font-weight: 700;\">Xstack</span>"
   ]
  },
  {
   "cell_type": "markdown",
   "metadata": {},
   "source": [
    "After initializing <span style=\"font-family: 'Courier New', Courier, monospace; font-weight: 700;\">Xstack</span>, call the `run` method to get the stacked results.\n",
    "\n",
    "The ARF weighting factor for each source, as well as the stacked RMF will be printed out when the stacking procedure is finished."
   ]
  },
  {
   "cell_type": "code",
   "execution_count": 4,
   "metadata": {},
   "outputs": [
    {
     "name": "stdout",
     "output_type": "stream",
     "text": [
      "#######################################################\n",
      "################ Welcome to Xstack! ###################\n",
      "#######################################################\n",
      "Version: 0.1.0\n",
      "Last updated: 2025/07/18\n",
      "******************* Input Summary *********************\n",
      "Number of sources: 200\n",
      "Redshift range: 0.300 -- 1.995\n",
      "NH range: 0.0 -- 0.0\n",
      "NH file: None\n",
      "RSP weighting method: SHP\n",
      "RSP projection gamma: 2.0\n",
      "Flux calculation range: 1.0 -- 2.3 keV (used only in `SHP` mode)\n",
      "ARF Truncation energy: 0.2 keV\n",
      "Number of CPUs used for shifting RMF: 10\n",
      "Number of background groups: 10\n",
      "Output directory: ./data/po\n",
      "Output PI spectrum (base)name: ./data/po/po_pi.fits\n",
      "Output bkg PI spectrum (base)name: ./data/po/po_bkgpi.fits\n",
      "Output ARF (base)name: ./data/po/po_arf.fits\n",
      "Output RMF (base)name: ./data/po/po_rmf.fits\n",
      "Output FENE (base)name: ./data/po/po_fene.fits\n",
      "*******************************************************\n",
      "\n",
      "******************* Shifting ... **********************\n"
     ]
    },
    {
     "name": "stderr",
     "output_type": "stream",
     "text": [
      "100%|██████████| 200/200 [00:42<00:00,  4.70it/s]\n"
     ]
    },
    {
     "name": "stdout",
     "output_type": "stream",
     "text": [
      "\n",
      "******************* Stacking ... **********************\n"
     ]
    },
    {
     "name": "stderr",
     "output_type": "stream",
     "text": [
      "100%|██████████| 200/200 [00:00<00:00, 208.31it/s]\n"
     ]
    },
    {
     "name": "stdout",
     "output_type": "stream",
     "text": [
      "****** Response weighting factor for each source ******\n",
      "`SHP` mode: assuming all sources have similar spectral shape, and all weights sum to 1 (normalized)\n",
      "`FLX` mode: assuming all sources have similar spectral shape + flux, and weights equal to the exposure time\n",
      "`LMN` mode: assuming all sources have similar spectral shape + luminosity, and weights equal to expo / distance^2\n",
      "Below is your response weighting factor list (`SHP` mode):\n",
      "[ 4.76610490e-03  1.11179058e-03  5.50176455e-02  3.51147781e-03\n",
      "  4.79120404e-03  9.35814510e-03  6.58921911e-03  2.86741546e-03\n",
      "  3.98363655e-03  3.24653344e-03  1.05764954e-03  1.80966583e-03\n",
      "  2.60608323e-03  3.95601031e-04  7.75823330e-03  4.73360663e-04\n",
      "  6.07998682e-04  2.82069944e-03  1.41764296e-02  1.57339419e-03\n",
      "  4.96933237e-04  1.69485234e-04  1.01017869e-03  1.44783593e-03\n",
      "  3.52714960e-04  1.44100133e-03  1.09524534e-02  3.38042606e-02\n",
      "  1.07685816e-02  1.34706287e-03  7.94093577e-03  2.07999721e-03\n",
      "  4.15491002e-04  5.86792063e-04  6.14186100e-04  3.66044504e-03\n",
      "  4.84357786e-04  2.48759815e-04  1.58442976e-02  1.27591131e-03\n",
      "  1.97777589e-04  1.65881016e-03  2.86929556e-03  3.17859543e-04\n",
      "  1.70782706e-02  2.22240930e-03  9.92681496e-05  2.17238302e-03\n",
      "  4.15905063e-03  1.81857506e-02  5.33790441e-03  2.30505734e-03\n",
      "  3.07478502e-03  9.19670096e-03  1.85048644e-03  2.69458796e-02\n",
      "  1.01449464e-03  7.68204101e-03  5.43466270e-04  8.83678559e-04\n",
      "  1.48964170e-02  4.11403489e-03  1.18901213e-03  2.93237111e-03\n",
      "  3.01911345e-02  5.75397659e-04  8.95869091e-04  1.18848775e-03\n",
      "  5.52848338e-04  6.45506843e-04  3.56064405e-04  4.10046771e-03\n",
      "  8.79063403e-03  2.47392632e-04  5.28901100e-03  6.83419438e-03\n",
      "  5.20424555e-05  1.73834718e-03  8.18557672e-04  1.19127797e-03\n",
      "  7.32212213e-04  2.57006028e-03  1.00505571e-03  1.27060277e-03\n",
      "  1.21089057e-03  9.65983051e-04  1.59661339e-03  6.30010730e-04\n",
      "  1.07156655e-03  1.51139808e-03  7.94755499e-03  6.48775626e-04\n",
      "  1.66298577e-03  1.06466144e-03  8.08004057e-04  1.70926189e-03\n",
      "  6.34016845e-04  5.11742703e-04  6.76965784e-02  3.40536547e-04\n",
      "  4.35652560e-03  2.53842546e-03  6.67608967e-04  2.80653978e-03\n",
      "  8.80474225e-05  7.07867964e-04  1.36544311e-02  1.38778394e-04\n",
      "  4.24963063e-04 -1.30694545e-04  1.37379532e-02  1.70965902e-02\n",
      "  3.01717108e-04  5.19553188e-04  5.40885820e-03  7.63891490e-04\n",
      "  1.24122009e-03  3.05753552e-04  3.53136689e-04  1.61727202e-02\n",
      "  1.55027080e-02  2.15179144e-02  9.15187586e-03  1.54346453e-03\n",
      "  6.79361934e-04  3.96635899e-04  5.35536834e-04  3.73425447e-04\n",
      "  7.62838976e-03  3.86914943e-03  2.38399848e-04  1.23967673e-03\n",
      "  6.20378231e-04  1.80935722e-02  6.85044288e-04  1.27542897e-03\n",
      "  2.87478328e-04  4.19184667e-03  1.01514971e-03  7.47451257e-04\n",
      "  2.55973733e-03  1.73662311e-02  2.45459069e-02  1.47172637e-02\n",
      "  5.01025566e-03  1.01821640e-02  5.74110516e-03  9.24802830e-04\n",
      "  2.31972044e-03  6.90050212e-03  1.89380887e-02  7.40086871e-04\n",
      "  5.88897023e-04  2.03723814e-03  4.00523793e-03  3.94344876e-04\n",
      "  8.51864956e-03  6.82016712e-04  5.66246304e-04  1.98146830e-03\n",
      "  1.99236720e-03  3.95316292e-04  1.52297918e-03  5.66508913e-04\n",
      "  1.66482295e-02  2.46314872e-02  3.30390645e-02  1.43034577e-03\n",
      "  1.00964764e-03  1.56976229e-04  1.74111688e-03  2.68079716e-04\n",
      "  8.67101998e-04  3.55264627e-03  4.05015730e-04  6.64072857e-04\n",
      "  2.48562538e-03  4.65102133e-03  1.76360742e-02  8.58940513e-04\n",
      "  4.99222981e-04  4.27295913e-03  2.43257516e-03  4.88675386e-03\n",
      "  1.73004862e-03 -7.59995077e-06  8.30358790e-03  4.53525995e-04\n",
      "  8.21745712e-04  6.72329732e-05  1.76655671e-03  2.26330883e-02\n",
      "  2.67524641e-04  2.93183954e-04  9.07407093e-04  1.12982112e-03\n",
      "  1.47237631e-02  6.53810748e-03  8.86674698e-04 -4.24550485e-05]\n",
      "Full list can be seen in the `WEIGHT` extension of the output ARF file.\n",
      "*******************************************************\n",
      "\n",
      "#######################################################\n",
      "########## Stacking 200 spectra completed! ###########\n",
      "#######################################################\n",
      "Stacked PI spectrum saved to: ./data/po/po_pi.fits\n",
      "Stacked BKGPI spectrum saved to: ./data/po/po_bkgpi.fits\n",
      "Stacked ARF saved to: ./data/po/po_arf.fits\n",
      "Stacked RMF saved to: ./data/po/po_rmf.fits\n",
      "Stacked FENE saved to: ./data/po/po_fene.fits\n",
      "\n",
      "# NOTE: the output stacked spectra have {BACK,AREA,CORR}SCAL=1, even though the inputs have different ratios. This is because these information have already gone into the background spectrum by scaling it.\n",
      "\n"
     ]
    },
    {
     "data": {
      "text/plain": [
       "(array([ 0.,  0.,  0., ..., 18., 21.,  0.]),\n",
       " array([0.        , 0.        , 0.        , ..., 4.24264069, 4.58257569,\n",
       "        0.        ]),\n",
       " array([ 0.        ,  0.        ,  0.        , ..., 19.13880999,\n",
       "        20.45624997,  8.09626755]),\n",
       " array([0.        , 0.        , 0.        , ..., 0.67708243, 0.69999846,\n",
       "        0.4403789 ]),\n",
       " array([ 0.        ,  0.        ,  0.        , ..., 31.49330682,\n",
       "        31.24789054, 13.3133694 ]),\n",
       " array([[1.        , 0.        , 0.        , ..., 0.        , 0.        ,\n",
       "         0.        ],\n",
       "        [1.        , 0.        , 0.        , ..., 0.        , 0.        ,\n",
       "         0.        ],\n",
       "        [1.        , 0.        , 0.        , ..., 0.        , 0.        ,\n",
       "         0.        ],\n",
       "        ...,\n",
       "        [0.        , 0.        , 0.        , ..., 0.12276191, 0.11742007,\n",
       "         0.05507606],\n",
       "        [0.        , 0.        , 0.        , ..., 0.13741697, 0.14082986,\n",
       "         0.06893701],\n",
       "        [0.        , 0.        , 0.        , ..., 0.14304952, 0.15147759,\n",
       "         0.0743505 ]]))"
      ]
     },
     "execution_count": 4,
     "metadata": {},
     "output_type": "execute_result"
    }
   ],
   "source": [
    "data_po.run()"
   ]
  },
  {
   "cell_type": "markdown",
   "metadata": {},
   "source": [
    "## **Step 3** (optional): Scientific analysis"
   ]
  },
  {
   "cell_type": "markdown",
   "metadata": {},
   "source": [
    "### 1. Sanity check: determine a valid energy range for analysis"
   ]
  },
  {
   "cell_type": "markdown",
   "metadata": {},
   "source": [
    "Not the entire energy range can be used for subsequent analysis. Two aspects need to be taken into account, when considering a specific rest-frame energy bin:\n",
    "\n",
    "* **What fraction of sources are contributing at this energy?** If the completeness is too low (typically for low energy), we cannot use this energy. \n",
    "\t- For example, if your sample contains a lot of high-redshift sources, you might expect that you need to start at a rest-frame higher energy.\n",
    "\n",
    "* **What is the fraction of net counts at this energy?** If the background contribution is too high (fraction of net counts too low), the spectrum would be dominated by noise, and we cannot use this energy.\n",
    "\t- Since background is more prominent at higher energy, you might expect to truncate at some hard X-ray band.\n",
    "\n",
    "There is a built-in function in Xstack to visualize these two (`valid_energy_range_plot`), see the example below. "
   ]
  },
  {
   "cell_type": "code",
   "execution_count": 2,
   "metadata": {},
   "outputs": [
    {
     "name": "stderr",
     "output_type": "stream",
     "text": [
      "/Users/chensj/software/installed/miniconda3/envs/Xstack/lib/python3.11/site-packages/Xstack/misc.py:563: RuntimeWarning: divide by zero encountered in divide\n",
      "  grpbkgfrac = grpbkgpha/grppha\n"
     ]
    },
    {
     "data": {
      "text/plain": [
       "[Text(0.2, 0, '0.2'),\n",
       " Text(0.4, 0, '0.4'),\n",
       " Text(1.0, 0, '1.0'),\n",
       " Text(2.3, 0, '2.3'),\n",
       " Text(4.0, 0, '4.0'),\n",
       " Text(8.0, 0, '8.0')]"
      ]
     },
     "execution_count": 2,
     "metadata": {},
     "output_type": "execute_result"
    },
    {
     "data": {
      "image/png": "[encoded data removed]",
      "text/plain": [
       "<Figure size 400x400 with 2 Axes>"
      ]
     },
     "metadata": {},
     "output_type": "display_data"
    }
   ],
   "source": [
    "src_name = \"./data/po/po_pi.fits\"  \t\t# source spectrum file\n",
    "grp_name = \"./data/po/po_grppi.fits\"\t# grouped source spectrum file to be created\n",
    "bkg_name = \"./data/po/po_bkgpi.fits\"  \t# background spectrum file\n",
    "arf_name = \"./data/po/po_arf.fits\"  \t# ARF file\n",
    "rmf_name = \"./data/po/po_rmf.fits\"  \t# RMF file\n",
    "fene_name = \"./data/po/po_fene.fits\"  \t# file storing the energy range of the source spectrum\n",
    "\n",
    "fig, ax1 = plt.subplots(figsize=(4,4))\n",
    "valid_energy_range_plot(fene_name,src_name,grp_name,bkg_name,rmf_name,ax=ax1)\n",
    "\n",
    "ax1.set_xscale(\"log\")\n",
    "ax1.set_xlim(0.2,10)\n",
    "x_ticks = [0.2, 0.4, 1.0, 2.3, 4.0, 8.0]\n",
    "ax1.set_xticks(x_ticks)\n",
    "ax1.set_xticklabels([str(x) for x in x_ticks])"
   ]
  },
  {
   "cell_type": "markdown",
   "metadata": {},
   "source": [
    "Here you can see, `0.3 -- 8.0 keV` might be a good choice, where both fraction of sources contributing and fraction of net counts all exceed 20%."
   ]
  },
  {
   "cell_type": "markdown",
   "metadata": {},
   "source": [
    "### 2. Quick look of your stacked spectrum: ARF-weighted spectrum"
   ]
  },
  {
   "cell_type": "markdown",
   "metadata": {},
   "source": [
    "To have a view on the spectral shape of the stacked spectrum, you can plot the ARF-weighted spectrum (i.e. stacked net photon counts divided by stacked ARF)."
   ]
  },
  {
   "cell_type": "code",
   "execution_count": null,
   "metadata": {},
   "outputs": [
    {
     "name": "stderr",
     "output_type": "stream",
     "text": [
      "/Users/chensj/software/installed/miniconda3/envs/Xstack/lib/python3.11/site-packages/Xstack/misc.py:279: RuntimeWarning: invalid value encountered in divide\n",
      "  grpspecresp.append((tmpspecresp * tmpwt / tmpwt.sum()).sum())\n",
      "/Users/chensj/software/installed/miniconda3/envs/Xstack/lib/python3.11/site-packages/Xstack/misc.py:297: RuntimeWarning: invalid value encountered in divide\n",
      "  grpspecresp.append((tmpspecresp * tmpwt / tmpwt.sum()).sum())\n"
     ]
    },
    {
     "data": {
      "image/png": "[encoded data removed]",
      "text/plain": [
       "<Figure size 400x400 with 1 Axes>"
      ]
     },
     "metadata": {},
     "output_type": "display_data"
    }
   ],
   "source": [
    "src_name = \"./data/po/po_pi.fits\"  \t\t# source spectrum file\n",
    "grp_name = \"./data/po/po_grppi.fits\"\t# grouped source spectrum file to be created\n",
    "bkg_name = \"./data/po/po_bkgpi.fits\"  \t# background spectrum file\n",
    "arf_name = \"./data/po/po_arf.fits\"  \t# ARF file\n",
    "rmf_name = \"./data/po/po_rmf.fits\"  \t# RMF file\n",
    "\n",
    "# create a grouped PI spectrum\n",
    "with fits.open(rmf_name) as hdu:\n",
    "    ebo = hdu[\"EBOUNDS\"].data\n",
    "ene_lo = ebo[\"E_MIN\"]\n",
    "ene_hi = ebo[\"E_MAX\"]\n",
    "ene_ce = (ene_lo + ene_hi) / 2\n",
    "eene = np.logspace(np.log10(0.2),np.log10(ene_ce.max()),18)\n",
    "eelo = eene[:-1]\n",
    "eehi = eene[1:]\n",
    "make_grpflg(\n",
    "    src_name,   # source spectrum file\n",
    "    grp_name,   # output grouped spectrum file\n",
    "    method='EDGE',  # grouping spectrum by fixed edges, as specified in `eelo` and `eehi`\n",
    "    rmf_file=rmf_name,  # RMF file to be used for reading PI energy channels\n",
    "    eelo=eelo,  # lower edges of the grouped energy channels\n",
    "    eehi=eehi   # upper edges of the grouped energy channels\n",
    ")\n",
    "\n",
    "# make data/arf plot\n",
    "fig, ax1 = plt.subplots(figsize=(4,4))\n",
    "# for the grouped spectrum\n",
    "make_dataarf_plot(\n",
    "    src_name,\n",
    "    bkg_name,\n",
    "    arf_name,\n",
    "    rmf_name,\n",
    "    grp_name,\n",
    "    normalize_at=4,\t# normalize at 4 keV\n",
    "    plot=True,\n",
    "    ax=ax1,\n",
    "    fmt=\"o-\",ms=3.5,lw=0.20,c=\"k\",capsize=0.,elinewidth=1.0,mec=\"k\",mfc=\"#f9d7a7\",alpha=0.8,zorder=1,label=\"binned spec\"\t# plotting kwargs\n",
    ") # this plots EF(E), or equivalently leed in xspec; a powerlaw with photon index of 2 should look flat in this plot\n",
    "# for the ungrouped spectrum\n",
    "make_dataarf_plot(\n",
    "    src_name,\n",
    "    bkg_name,\n",
    "    arf_name,\n",
    "    rmf_name,\n",
    "    normalize_at=4,\t# normalize at 4 keV\n",
    "    plot=True,\n",
    "    ax=ax1,\n",
    "    fmt=\"o\",ms=0.3,lw=0.1,c=\"gray\",alpha=0.5,zorder=-5,label=\"unbinned spec\"\n",
    ")\n",
    "\n",
    "# below 0.3 keV: too few sources; above 8.0 keV: bkg dominated\n",
    "ax1.fill_betweenx(y=[0.5,10], x1=0.2, x2=0.3, color=\"orange\", alpha=0.3, zorder=-1) \n",
    "ax1.fill_betweenx(y=[0.5,10], x1=8.0, x2=10.0, color=\"orange\", alpha=0.3, zorder=-1) \n",
    "\n",
    "ax1.legend(loc=\"upper right\",fontsize=12)\n",
    "ax1.set_xscale(\"log\")\n",
    "ax1.set_xlim(0.2,10)\n",
    "x_ticks = [0.3, 0.5, 1.0, 2.3, 6.0, 8.0]\n",
    "ax1.set_xticks(x_ticks)\n",
    "ax1.set_xticklabels([str(x) for x in x_ticks])\n",
    "ax1.set_xlabel(\"Energy (keV)\",fontsize=12)\n",
    "ax1.tick_params(\"x\",which=\"major\",\n",
    "                length=10,width = 1.0,size=5,labelsize=8,pad=3)\n",
    "ax1.tick_params(\"x\",which=\"minor\",\n",
    "                length=10,width = 1.0,size=5,labelsize=8,pad=3)\n",
    "ax1.set_ylim(0.5,10)\n",
    "ax1.set_yscale(\"log\")\n",
    "y_ticks = [1,10]\n",
    "ax1.set_yticks(y_ticks)\n",
    "ax1.set_yticklabels([str(y) for y in y_ticks])\n",
    "ax1.set_ylabel(r\"Normalized $EF_E$\",fontsize=12)\n",
    "ax1.tick_params(\"y\",which=\"major\",\n",
    "                length=10,width = 1.0,size=5,labelsize=8)\n",
    "ax1.tick_params(\"y\",which=\"minor\",\n",
    "                length=10,width = 1.0,size=5,labelsize=8)"
   ]
  },
  {
   "cell_type": "markdown",
   "metadata": {},
   "source": [
    "**The output stacked spectrum closely resemble a $\\Gamma=2$ power-law, which is what we want!**"
   ]
  },
  {
   "cell_type": "markdown",
   "metadata": {},
   "source": [
    "### 3. XSPEC fitting"
   ]
  },
  {
   "cell_type": "markdown",
   "metadata": {},
   "source": [
    "Check `./xspec_sh` for example scripts of spectral fitting with XSPEC."
   ]
  },
  {
   "cell_type": "markdown",
   "metadata": {},
   "source": [
    "# **2. Other examples**\n",
    "***Try for yourself!***"
   ]
  },
  {
   "cell_type": "markdown",
   "metadata": {},
   "source": [
    "## **e.g.2**: absorbed powerlaw"
   ]
  },
  {
   "cell_type": "markdown",
   "metadata": {},
   "source": [
    "The Galactic absorption is often an issue when studying the X-ray spectra of extragalactic sources (e.g. AGNs), suppressing the soft X-ray flux significantly.\n",
    "\n",
    "<span style=\"font-family: 'Courier New', Courier, monospace; font-weight: 700;\">Xstack</span> allows for correction of Galactic absorption, in order to study the intrinsic spectral shape unaffected by the Galactic medium. This is essentially done by multiplying the observed-frame ARF (effective area vs. input energy) with Galactic absorption profile (absorption factor vs. input energy), as an approach to account for the expected loss of effective area due to the absorption effect. To activate this correction, you will need to specify the NH value of each spectrum (`nh_lst`), as well as the sample Galactic absorption profile (`nh_file`)."
   ]
  },
  {
   "cell_type": "code",
   "execution_count": 5,
   "metadata": {},
   "outputs": [
    {
     "name": "stdout",
     "output_type": "stream",
     "text": [
      "#######################################################\n",
      "################ Welcome to Xstack! ###################\n",
      "#######################################################\n",
      "Version: 0.1.0\n",
      "Last updated: 2025/07/18\n",
      "******************* Input Summary *********************\n",
      "Number of sources: 200\n",
      "Redshift range: 0.300 -- 1.995\n",
      "NH range: 3.112857825192106e+18 -- 9.893400561666382e+20\n",
      "NH file: /Users/chensj/software/installed/miniconda3/envs/Xstack/lib/python3.11/site-packages/Xstack/tbabs_1e20.txt\n",
      "RSP weighting method: SHP\n",
      "RSP projection gamma: 2.0\n",
      "Flux calculation range: 1.0 -- 2.3 keV (used only in `SHP` mode)\n",
      "ARF Truncation energy: 0.2 keV\n",
      "Number of CPUs used for shifting RMF: 50\n",
      "Number of background groups: 10\n",
      "Output directory: ./data/abspo\n",
      "Output PI spectrum (base)name: ./data/abspo/abspo_pi.fits\n",
      "Output bkg PI spectrum (base)name: ./data/abspo/abspo_bkgpi.fits\n",
      "Output ARF (base)name: ./data/abspo/abspo_arf.fits\n",
      "Output RMF (base)name: ./data/abspo/abspo_rmf.fits\n",
      "Output FENE (base)name: ./data/abspo/abspo_fene.fits\n",
      "*******************************************************\n",
      "\n",
      "******************* Shifting ... **********************\n"
     ]
    },
    {
     "name": "stderr",
     "output_type": "stream",
     "text": [
      "100%|██████████| 200/200 [00:57<00:00,  3.49it/s]\n"
     ]
    },
    {
     "name": "stdout",
     "output_type": "stream",
     "text": [
      "\n",
      "******************* Stacking ... **********************\n"
     ]
    },
    {
     "name": "stderr",
     "output_type": "stream",
     "text": [
      "100%|██████████| 200/200 [00:00<00:00, 220.70it/s]\n"
     ]
    },
    {
     "name": "stdout",
     "output_type": "stream",
     "text": [
      "****** Response weighting factor for each source ******\n",
      "`SHP` mode: assuming all sources have similar spectral shape, and all weights sum to 1 (normalized)\n",
      "`FLX` mode: assuming all sources have similar spectral shape + flux, and weights equal to the exposure time\n",
      "`LMN` mode: assuming all sources have similar spectral shape + luminosity, and weights equal to expo / distance^2\n",
      "Below is your response weighting factor list (`SHP` mode):\n",
      "[ 5.26762973e-03  1.12718365e-03  5.66589536e-02  3.71184105e-03\n",
      "  4.77158148e-03  8.61155509e-03  5.78781158e-03  2.57344039e-03\n",
      "  4.55188326e-03  3.29705578e-03  1.14330770e-03  2.02384334e-03\n",
      "  2.03139388e-03  2.92401230e-04  7.91337067e-03  8.28227909e-05\n",
      "  5.30954721e-04  2.62121763e-03  1.45356681e-02  1.73220011e-03\n",
      "  5.57179219e-04  1.79269882e-04  8.97620978e-04  1.37037281e-03\n",
      "  3.66772570e-04  1.44904312e-03  1.12239273e-02  3.27145506e-02\n",
      "  1.04606389e-02  1.13298279e-03  7.23563295e-03  2.25475593e-03\n",
      " -6.52726121e-05  7.64208780e-04  5.47828105e-04  3.67845067e-03\n",
      "  7.69467661e-04  2.81865549e-04  1.63341092e-02  1.31210694e-03\n",
      "  2.59628722e-04  1.41653946e-03  2.84183947e-03  2.51741543e-04\n",
      "  1.72160412e-02  2.27193238e-03  1.17030319e-04  2.27586822e-03\n",
      "  3.92259881e-03  1.83172240e-02  5.64861899e-03  2.37896427e-03\n",
      "  3.03208610e-03  9.79071739e-03  2.02964043e-03  2.75313228e-02\n",
      "  7.55318166e-04  8.01087815e-03  5.89180206e-04  1.08064050e-03\n",
      "  1.46414971e-02  3.44322174e-03  1.14504348e-03  2.53802544e-03\n",
      "  3.02784516e-02  6.38749054e-04  1.32634156e-03  1.34107106e-03\n",
      "  7.00703812e-04  6.68409078e-04 -5.81067209e-05  3.66646730e-03\n",
      "  8.62662213e-03  2.85224345e-04  5.17350030e-03  7.12903322e-03\n",
      " -1.20082024e-04  1.82858860e-03  7.97478136e-04  1.05766725e-03\n",
      "  5.74752917e-04  2.54538389e-03  1.63223929e-03  1.15405819e-03\n",
      "  1.36424250e-03  1.01865390e-03  2.00337956e-03  1.00248150e-04\n",
      "  1.23079479e-03  1.24291821e-03  8.15673048e-03  6.17108689e-04\n",
      "  1.11216811e-03  9.89119730e-04  8.67854773e-04  1.55292862e-03\n",
      "  4.73982480e-04  5.18926223e-04  6.68102953e-02  4.44989717e-04\n",
      "  4.60416518e-03  2.05677168e-03  4.03943332e-04  2.74498741e-03\n",
      " -9.01326622e-05  5.44669656e-04  1.26971040e-02  3.02562062e-05\n",
      "  4.99533893e-04 -4.22106875e-04  1.38897955e-02  1.68509097e-02\n",
      " -1.31498706e-05  5.98388091e-04  5.26573192e-03  1.05659291e-03\n",
      "  9.19514313e-04  4.26871961e-04  5.64277456e-04  1.64683769e-02\n",
      "  1.57091369e-02  2.16516497e-02  9.31541186e-03  1.20238260e-03\n",
      "  6.10366646e-04  4.05102875e-04  5.45751139e-04  3.22485071e-04\n",
      "  8.05114680e-03  4.53377207e-03  1.90370270e-05  1.12093661e-03\n",
      "  6.21847787e-04  1.84453471e-02  3.71578472e-04  1.37442114e-03\n",
      "  3.65595117e-04  4.59970417e-03  1.07800469e-03  7.70121382e-04\n",
      "  2.03798543e-03  1.80543550e-02  2.46674632e-02  1.49813390e-02\n",
      "  5.14723035e-03  1.00121566e-02  5.43493833e-03  8.98907063e-04\n",
      "  2.45121447e-03  5.91832194e-03  1.88991992e-02  6.51201879e-04\n",
      "  7.17972403e-04  2.28120492e-03  3.50486696e-03  4.93766061e-04\n",
      "  8.79178913e-03  5.67490279e-04  5.00011337e-04  2.01629298e-03\n",
      "  1.96199142e-03  4.38195261e-04  1.97592531e-03  6.27667885e-04\n",
      "  1.59906382e-02  2.54748418e-02  3.45061552e-02  1.40153224e-03\n",
      "  8.89390432e-04 -1.76009746e-04  1.63098761e-03  2.43631366e-04\n",
      "  9.76823394e-04  3.07258655e-03  3.43216202e-04  5.46057177e-04\n",
      "  2.39150370e-03  5.09602750e-03  1.83640057e-02  1.02756407e-03\n",
      "  5.48005794e-04  4.66967655e-03  2.81078237e-03  5.01987957e-03\n",
      "  1.90895723e-03 -2.80081457e-04  7.77661526e-03  4.83826904e-04\n",
      "  8.78655798e-04 -4.44252598e-05  1.75143029e-03  2.27326717e-02\n",
      "  4.15082933e-04  5.01318958e-04  8.85799466e-04  1.23746283e-03\n",
      "  1.46581555e-02  6.08711340e-03  1.20182069e-03 -2.51606206e-04]\n",
      "Full list can be seen in the `WEIGHT` extension of the output ARF file.\n",
      "*******************************************************\n",
      "\n",
      "#######################################################\n",
      "########## Stacking 200 spectra completed! ###########\n",
      "#######################################################\n",
      "Stacked PI spectrum saved to: ./data/abspo/abspo_pi.fits\n",
      "Stacked BKGPI spectrum saved to: ./data/abspo/abspo_bkgpi.fits\n",
      "Stacked ARF saved to: ./data/abspo/abspo_arf.fits\n",
      "Stacked RMF saved to: ./data/abspo/abspo_rmf.fits\n",
      "Stacked FENE saved to: ./data/abspo/abspo_fene.fits\n",
      "\n",
      "# NOTE: the output stacked spectra have {BACK,AREA,CORR}SCAL=1, even though the inputs have different ratios. This is because these information have already gone into the background spectrum by scaling it.\n",
      "\n"
     ]
    },
    {
     "data": {
      "text/plain": [
       "(array([ 0.,  0.,  0., ..., 19., 14.,  0.]),\n",
       " array([0.        , 0.        , 0.        , ..., 4.35889894, 3.74165739,\n",
       "        0.        ]),\n",
       " array([ 0.        ,  0.        ,  0.        , ..., 20.09694816,\n",
       "        20.76764488,  7.68905883]),\n",
       " array([0.        , 0.        , 0.        , ..., 0.6938237 , 0.7053062 ,\n",
       "        0.42916141]),\n",
       " array([ 0.        ,  0.        ,  0.        , ..., 31.02539426,\n",
       "        30.78175219, 12.95096369]),\n",
       " array([[1.        , 0.        , 0.        , ..., 0.        , 0.        ,\n",
       "         0.        ],\n",
       "        [1.        , 0.        , 0.        , ..., 0.        , 0.        ,\n",
       "         0.        ],\n",
       "        [1.        , 0.        , 0.        , ..., 0.        , 0.        ,\n",
       "         0.        ],\n",
       "        ...,\n",
       "        [0.        , 0.        , 0.        , ..., 0.12311319, 0.1177131 ,\n",
       "         0.05537153],\n",
       "        [0.        , 0.        , 0.        , ..., 0.13784   , 0.14127881,\n",
       "         0.06938217],\n",
       "        [0.        , 0.        , 0.        , ..., 0.14364207, 0.15215421,\n",
       "         0.07513823]]))"
      ]
     },
     "execution_count": 5,
     "metadata": {},
     "output_type": "execute_result"
    }
   ],
   "source": [
    "# fetch some basic data (they have already been generated)\n",
    "pifile_lst = []\n",
    "bkgpifile_lst = []\n",
    "rmffile_lst = []\n",
    "arffile_lst = []\n",
    "z_lst = []\n",
    "nh_lst = []\n",
    "\n",
    "for i in range(200):\n",
    "    pifile = \"./data/abspo/abspo_spec/%05d_abspo.pi\"%i\n",
    "    with fits.open(pifile) as hdu:\n",
    "        head = hdu[1].header\n",
    "    path = os.path.dirname(pifile)\n",
    "    bkgpifile = os.path.join(path,head[\"BACKFILE\"])\n",
    "    rmffile = os.path.join(path,head[\"RESPFILE\"])\n",
    "    arffile = os.path.join(path,head[\"ANCRFILE\"])\n",
    "    zfile = os.path.join(path,head[\"ZFILE\"])        # file storing redshift\n",
    "    nhfile = os.path.join(path,head[\"NHFILE\"])        # file storing NH\n",
    "    with open(zfile,\"r\") as f:\n",
    "        z = f.readlines()\n",
    "    z = float(z[0].rstrip())\n",
    "    with open(nhfile,\"r\") as f:\n",
    "        nh = f.readlines()\n",
    "    nh = float(nh[0].rstrip())\n",
    "\n",
    "    pifile_lst.append(pifile)\n",
    "    bkgpifile_lst.append(bkgpifile)\n",
    "    rmffile_lst.append(rmffile)\n",
    "    arffile_lst.append(arffile)\n",
    "    z_lst.append(z)\n",
    "    nh_lst.append(nh)\n",
    "\n",
    "# run Xstack\n",
    "XstackRunner(\n",
    "    pifile_lst=pifile_lst,                          # PI file list\n",
    "    arffile_lst=arffile_lst,                        # ARF file list\n",
    "    rmffile_lst=rmffile_lst,                        # RMF file list\n",
    "    z_lst=z_lst,                                    # redshift list\n",
    "    bkgpifile_lst=bkgpifile_lst,                    # bkg PI file list\n",
    "    nh_lst=nh_lst,                                  # nh list\n",
    "    srcid_lst=np.arange(200),                       # source ID list (can be arbitary)\n",
    "    rspwt_method=\"SHP\",                             # method to calculate response weighting factor for each source (recommended: SHP)\n",
    "    rspproj_gamma=2.0,                              # prior photon index for projecting RSP matrix onto the output energy channel\n",
    "    int_rng=(1.0,2.3),                              # if `arfscal_method`=`SHP`, choose the range to calculate flux\n",
    "    sample_rmf=None,                                # the sample RMF to read input/output energy bin edge (if not specified, the first RMF in `rmffile_lst` will be used)\n",
    "    sample_arf=None,                                # the sample ARF to read input/output energy bin edge (if not specified, the first RMF in `rmffile_lst` will be used)\n",
    "    nh_file=Xstack.default_nh_file,                 # the Galactic absorption profile (absorption factor vs. energy)\n",
    "    Nbkggrp=10,                                     # the number of background groups to calculate uncertainty of background\n",
    "    ene_trc=0.2,                                    # energy below which the ARF is manually truncated (e.g., 0.2 keV for eROSITA)\n",
    "    nthreads=50,                                    # number of cpus used for RMF shifting\n",
    "    prefix=\"./data/abspo/abspo_\",\t\t\t\t\t# prefix for all output files\n",
    ").run()"
   ]
  },
  {
   "cell_type": "code",
   "execution_count": 6,
   "metadata": {},
   "outputs": [
    {
     "name": "stderr",
     "output_type": "stream",
     "text": [
      "/Users/chensj/software/installed/miniconda3/envs/Xstack/lib/python3.11/site-packages/Xstack/misc.py:563: RuntimeWarning: divide by zero encountered in divide\n",
      "  grpbkgfrac = grpbkgpha/grppha\n"
     ]
    },
    {
     "data": {
      "text/plain": [
       "[Text(0.2, 0, '0.2'),\n",
       " Text(0.4, 0, '0.4'),\n",
       " Text(1.0, 0, '1.0'),\n",
       " Text(2.3, 0, '2.3'),\n",
       " Text(4.0, 0, '4.0'),\n",
       " Text(8.0, 0, '8.0')]"
      ]
     },
     "execution_count": 6,
     "metadata": {},
     "output_type": "execute_result"
    },
    {
     "data": {
      "image/png": "[encoded data removed]",
      "text/plain": [
       "<Figure size 400x400 with 2 Axes>"
      ]
     },
     "metadata": {},
     "output_type": "display_data"
    }
   ],
   "source": [
    "src_name = \"./data/abspo/abspo_pi.fits\"  \t\t# source spectrum file\n",
    "grp_name = \"./data/abspo/abspo_grppi.fits\"\t# grouped source spectrum file to be created\n",
    "bkg_name = \"./data/abspo/abspo_bkgpi.fits\"  \t# background spectrum file\n",
    "arf_name = \"./data/abspo/abspo_arf.fits\"  \t# ARF file\n",
    "rmf_name = \"./data/abspo/abspo_rmf.fits\"  \t# RMF file\n",
    "fene_name = \"./data/abspo/abspo_fene.fits\"  \t# file storing the energy range of the source spectrum\n",
    "\n",
    "fig, ax1 = plt.subplots(figsize=(4,4))\n",
    "valid_energy_range_plot(fene_name,src_name,grp_name,bkg_name,rmf_name,ax=ax1)\n",
    "\n",
    "ax1.set_xscale(\"log\")\n",
    "ax1.set_xlim(0.2,10)\n",
    "x_ticks = [0.2, 0.4, 1.0, 2.3, 4.0, 8.0]\n",
    "ax1.set_xticks(x_ticks)\n",
    "ax1.set_xticklabels([str(x) for x in x_ticks])"
   ]
  },
  {
   "cell_type": "code",
   "execution_count": 7,
   "metadata": {},
   "outputs": [
    {
     "name": "stderr",
     "output_type": "stream",
     "text": [
      "/Users/chensj/software/installed/miniconda3/envs/Xstack/lib/python3.11/site-packages/Xstack/misc.py:279: RuntimeWarning: invalid value encountered in divide\n",
      "  grpspecresp.append((tmpspecresp * tmpwt / tmpwt.sum()).sum())\n",
      "/Users/chensj/software/installed/miniconda3/envs/Xstack/lib/python3.11/site-packages/Xstack/misc.py:297: RuntimeWarning: invalid value encountered in divide\n",
      "  grpspecresp.append((tmpspecresp * tmpwt / tmpwt.sum()).sum())\n"
     ]
    },
    {
     "data": {
      "image/png": "[encoded data removed]",
      "text/plain": [
       "<Figure size 400x400 with 1 Axes>"
      ]
     },
     "metadata": {},
     "output_type": "display_data"
    }
   ],
   "source": [
    "src_name = \"./data/abspo/abspo_pi.fits\"  \t\t# source spectrum file\n",
    "grp_name = \"./data/abspo/abspo_grppi.fits\"\t\t# grouped source spectrum file to be created\n",
    "bkg_name = \"./data/abspo/abspo_bkgpi.fits\"  \t# background spectrum file\n",
    "arf_name = \"./data/abspo/abspo_arf.fits\"  \t\t# ARF file\n",
    "rmf_name = \"./data/abspo/abspo_rmf.fits\"  \t\t# RMF file\n",
    "\n",
    "# create a grouped PI spectrum\n",
    "with fits.open(rmf_name) as hdu:\n",
    "    ebo = hdu[\"EBOUNDS\"].data\n",
    "ene_lo = ebo[\"E_MIN\"]\n",
    "ene_hi = ebo[\"E_MAX\"]\n",
    "ene_ce = (ene_lo + ene_hi) / 2\n",
    "eene = np.logspace(np.log10(0.2),np.log10(ene_ce.max()),18)\n",
    "eelo = eene[:-1]\n",
    "eehi = eene[1:]\n",
    "make_grpflg(\n",
    "    src_name,   # source spectrum file\n",
    "    grp_name,   # output grouped spectrum file\n",
    "    method='EDGE',  # grouping spectrum by fixed edges, as specified in `eelo` and `eehi`\n",
    "    rmf_file=rmf_name,  # RMF file to be used for reading PI energy channels\n",
    "    eelo=eelo,  # lower edges of the grouped energy channels\n",
    "    eehi=eehi   # upper edges of the grouped energy channels\n",
    ")\n",
    "\n",
    "# make data/arf plot\n",
    "fig, ax1 = plt.subplots(figsize=(4,4))\n",
    "# for the grouped spectrum\n",
    "make_dataarf_plot(\n",
    "    src_name,\n",
    "    bkg_name,\n",
    "    arf_name,\n",
    "    rmf_name,\n",
    "    grp_name,\n",
    "    normalize_at=4,\t# normalize at 4 keV\n",
    "    plot=True,\n",
    "    ax=ax1,\n",
    "    fmt=\"o-\",ms=3.5,lw=0.20,c=\"k\",capsize=0.,elinewidth=1.0,mec=\"k\",mfc=\"#f9d7a7\",alpha=0.8,zorder=1,label=\"binned spec\"\t# plotting kwargs\n",
    ") # this plots EF(E), or equivalently leed in xspec; a powerlaw with photon index of 2 should look flat in this plot\n",
    "# for the ungrouped spectrum\n",
    "make_dataarf_plot(\n",
    "    src_name,\n",
    "    bkg_name,\n",
    "    arf_name,\n",
    "    rmf_name,\n",
    "    normalize_at=4,\t# normalize at 4 keV\n",
    "    plot=True,\n",
    "    ax=ax1,\n",
    "    fmt=\"o\",ms=0.3,lw=0.1,c=\"gray\",alpha=0.5,zorder=-5,label=\"unbinned spec\"\n",
    ")\n",
    "\n",
    "# below 0.3 keV: too few sources; above 8.0 keV: bkg dominated\n",
    "ax1.fill_betweenx(y=[0.5,10], x1=0.2, x2=0.3, color=\"orange\", alpha=0.3, zorder=-1) \n",
    "ax1.fill_betweenx(y=[0.5,10], x1=8.0, x2=10.0, color=\"orange\", alpha=0.3, zorder=-1) \n",
    "\n",
    "ax1.legend(loc=\"upper right\",fontsize=12)\n",
    "ax1.set_xscale(\"log\")\n",
    "ax1.set_xlim(0.2,10)\n",
    "x_ticks = [0.3, 0.5, 1.0, 2.3, 6.0, 8.0]\n",
    "ax1.set_xticks(x_ticks)\n",
    "ax1.set_xticklabels([str(x) for x in x_ticks])\n",
    "ax1.set_xlabel(\"Energy (keV)\",fontsize=12)\n",
    "ax1.tick_params(\"x\",which=\"major\",\n",
    "                length=10,width = 1.0,size=5,labelsize=8,pad=3)\n",
    "ax1.tick_params(\"x\",which=\"minor\",\n",
    "                length=10,width = 1.0,size=5,labelsize=8,pad=3)\n",
    "ax1.set_ylim(0.5,10)\n",
    "ax1.set_yscale(\"log\")\n",
    "y_ticks = [1,10]\n",
    "ax1.set_yticks(y_ticks)\n",
    "ax1.set_yticklabels([str(y) for y in y_ticks])\n",
    "ax1.set_ylabel(r\"Normalized $EF_E$\",fontsize=12)\n",
    "ax1.tick_params(\"y\",which=\"major\",\n",
    "                length=10,width = 1.0,size=5,labelsize=8)\n",
    "ax1.tick_params(\"y\",which=\"minor\",\n",
    "                length=10,width = 1.0,size=5,labelsize=8)"
   ]
  },
  {
   "cell_type": "markdown",
   "metadata": {},
   "source": [
    "## **e.g.3**: primary continuum (powerlaw) + soft excess (bbody)"
   ]
  },
  {
   "cell_type": "code",
   "execution_count": 8,
   "metadata": {},
   "outputs": [
    {
     "name": "stdout",
     "output_type": "stream",
     "text": [
      "#######################################################\n",
      "################ Welcome to Xstack! ###################\n",
      "#######################################################\n",
      "Version: 0.1.0\n",
      "Last updated: 2025/07/18\n",
      "******************* Input Summary *********************\n",
      "Number of sources: 200\n",
      "Redshift range: 0.300 -- 1.995\n",
      "NH range: 0.0 -- 0.0\n",
      "NH file: None\n",
      "RSP weighting method: SHP\n",
      "RSP projection gamma: 2.0\n",
      "Flux calculation range: 1.0 -- 2.3 keV (used only in `SHP` mode)\n",
      "ARF Truncation energy: 0.2 keV\n",
      "Number of CPUs used for shifting RMF: 50\n",
      "Number of background groups: 10\n",
      "Output directory: ./data/pobb\n",
      "Output PI spectrum (base)name: ./data/pobb/pobb_pi.fits\n",
      "Output bkg PI spectrum (base)name: ./data/pobb/pobb_bkgpi.fits\n",
      "Output ARF (base)name: ./data/pobb/pobb_arf.fits\n",
      "Output RMF (base)name: ./data/pobb/pobb_rmf.fits\n",
      "Output FENE (base)name: ./data/pobb/pobb_fene.fits\n",
      "*******************************************************\n",
      "\n",
      "******************* Shifting ... **********************\n"
     ]
    },
    {
     "name": "stderr",
     "output_type": "stream",
     "text": [
      "100%|██████████| 200/200 [01:02<00:00,  3.19it/s]\n"
     ]
    },
    {
     "name": "stdout",
     "output_type": "stream",
     "text": [
      "\n",
      "******************* Stacking ... **********************\n"
     ]
    },
    {
     "name": "stderr",
     "output_type": "stream",
     "text": [
      "100%|██████████| 200/200 [00:00<00:00, 229.94it/s]\n"
     ]
    },
    {
     "name": "stdout",
     "output_type": "stream",
     "text": [
      "****** Response weighting factor for each source ******\n",
      "`SHP` mode: assuming all sources have similar spectral shape, and all weights sum to 1 (normalized)\n",
      "`FLX` mode: assuming all sources have similar spectral shape + flux, and weights equal to the exposure time\n",
      "`LMN` mode: assuming all sources have similar spectral shape + luminosity, and weights equal to expo / distance^2\n",
      "Below is your response weighting factor list (`SHP` mode):\n",
      "[4.43936224e-03 8.50454385e-04 6.01982425e-02 3.31302527e-03\n",
      " 4.72343779e-03 8.45526157e-03 5.77310894e-03 2.33471490e-03\n",
      " 4.67774134e-03 3.04951602e-03 1.16701891e-03 2.03921707e-03\n",
      " 2.01219231e-03 1.73588770e-04 6.52779922e-03 6.76341423e-04\n",
      " 6.59678669e-04 3.01524996e-03 1.28140675e-02 1.48496611e-03\n",
      " 3.98066798e-04 1.15626187e-04 1.05445689e-03 1.72184086e-03\n",
      " 3.49956361e-04 1.50215386e-03 1.18747135e-02 3.37839410e-02\n",
      " 1.11328224e-02 1.12959948e-03 8.16753672e-03 2.18789163e-03\n",
      " 7.12712101e-04 8.00624928e-04 6.35189922e-04 3.47079901e-03\n",
      " 3.26685750e-04 6.85607284e-04 1.55323142e-02 1.31148877e-03\n",
      " 1.84077608e-04 1.75361464e-03 3.29303633e-03 3.16255363e-04\n",
      " 1.57838530e-02 1.71573389e-03 9.78390676e-05 1.98122125e-03\n",
      " 4.15126115e-03 1.85070013e-02 5.90427399e-03 2.15289685e-03\n",
      " 2.85920122e-03 8.29299327e-03 1.69129119e-03 2.68820950e-02\n",
      " 1.01029617e-03 7.89068049e-03 6.65169198e-04 8.80679577e-04\n",
      " 1.53913253e-02 3.55706792e-03 1.16833450e-03 3.02612439e-03\n",
      " 2.95880195e-02 9.49712016e-04 1.06739942e-03 1.15896956e-03\n",
      " 4.30070938e-04 6.45163688e-04 5.94160002e-04 4.33432347e-03\n",
      " 8.28771118e-03 4.49966727e-04 5.20913748e-03 8.30149462e-03\n",
      " 1.32822801e-04 1.43175929e-03 6.46551655e-04 1.50321937e-03\n",
      " 8.40889689e-04 2.35489374e-03 1.06979152e-03 1.26227982e-03\n",
      " 1.55526759e-03 7.46850076e-04 1.41868868e-03 8.16929978e-04\n",
      " 1.16081300e-03 1.28896159e-03 7.92397955e-03 7.66134082e-04\n",
      " 1.81805482e-03 1.12442970e-03 1.03500995e-03 1.38836031e-03\n",
      " 4.86296210e-04 3.91742730e-04 6.29673982e-02 5.38626627e-04\n",
      " 5.32330496e-03 3.13494219e-03 8.30330915e-04 2.45798139e-03\n",
      " 1.21486623e-04 7.25926427e-04 1.29127111e-02 2.65575749e-04\n",
      " 8.08267160e-04 5.70126910e-05 1.31018961e-02 1.65862068e-02\n",
      " 2.18755288e-04 3.88797963e-04 5.78427215e-03 6.61466652e-04\n",
      " 1.17247450e-03 3.34592599e-04 4.73023024e-04 1.44793775e-02\n",
      " 1.45106296e-02 2.10466956e-02 8.60953784e-03 1.41704583e-03\n",
      " 6.37930908e-04 1.10384029e-03 4.08106384e-04 7.53299694e-04\n",
      " 8.05965149e-03 3.97756470e-03 3.67507993e-04 1.00585661e-03\n",
      " 5.09343161e-04 1.84800818e-02 9.55761366e-04 1.12545482e-03\n",
      " 3.69110715e-04 4.70035082e-03 1.13658312e-03 6.80899484e-04\n",
      " 2.81529795e-03 1.72250370e-02 2.49369405e-02 1.62671774e-02\n",
      " 5.26797744e-03 1.14046626e-02 6.22826353e-03 8.24169300e-04\n",
      " 1.75483040e-03 7.24307995e-03 2.04676297e-02 7.37313738e-04\n",
      " 5.65444006e-04 2.68448287e-03 4.51466026e-03 5.19127817e-04\n",
      " 8.23559178e-03 8.09878387e-04 7.23165603e-04 1.92788400e-03\n",
      " 2.03173527e-03 3.34287460e-04 2.16821650e-03 5.62667653e-04\n",
      " 1.61545443e-02 2.31592963e-02 3.39162914e-02 1.42387929e-03\n",
      " 1.06184106e-03 4.26347227e-04 1.55154399e-03 9.53696999e-05\n",
      " 6.82410609e-04 3.28711149e-03 4.82291922e-04 4.90079391e-04\n",
      " 1.95902613e-03 4.56862745e-03 1.66547404e-02 1.04984720e-03\n",
      " 4.65733726e-04 5.02802135e-03 2.09951755e-03 5.57993522e-03\n",
      " 1.66095182e-03 1.18562751e-04 8.01526480e-03 5.87464492e-04\n",
      " 5.76230842e-04 1.96613158e-04 1.55605295e-03 2.20819434e-02\n",
      " 2.79789348e-04 3.04628146e-04 8.27961693e-04 1.11443189e-03\n",
      " 1.48095834e-02 6.42053118e-03 8.78539753e-04 3.70604835e-04]\n",
      "Full list can be seen in the `WEIGHT` extension of the output ARF file.\n",
      "*******************************************************\n",
      "\n",
      "#######################################################\n",
      "########## Stacking 200 spectra completed! ###########\n",
      "#######################################################\n",
      "Stacked PI spectrum saved to: ./data/pobb/pobb_pi.fits\n",
      "Stacked BKGPI spectrum saved to: ./data/pobb/pobb_bkgpi.fits\n",
      "Stacked ARF saved to: ./data/pobb/pobb_arf.fits\n",
      "Stacked RMF saved to: ./data/pobb/pobb_rmf.fits\n",
      "Stacked FENE saved to: ./data/pobb/pobb_fene.fits\n",
      "\n",
      "# NOTE: the output stacked spectra have {BACK,AREA,CORR}SCAL=1, even though the inputs have different ratios. This is because these information have already gone into the background spectrum by scaling it.\n",
      "\n"
     ]
    },
    {
     "data": {
      "text/plain": [
       "(array([ 0.,  0.,  0., ..., 16., 17.,  0.]),\n",
       " array([0.        , 0.        , 0.        , ..., 4.        , 4.12310563,\n",
       "        0.        ]),\n",
       " array([ 0.        ,  0.        ,  0.        , ..., 20.38438961,\n",
       "        21.10299324,  8.55138319]),\n",
       " array([0.        , 0.        , 0.        , ..., 0.69876788, 0.71097791,\n",
       "        0.45258719]),\n",
       " array([ 0.        ,  0.        ,  0.        , ..., 31.90296051,\n",
       "        31.6558831 , 13.55240883]),\n",
       " array([[1.        , 0.        , 0.        , ..., 0.        , 0.        ,\n",
       "         0.        ],\n",
       "        [1.        , 0.        , 0.        , ..., 0.        , 0.        ,\n",
       "         0.        ],\n",
       "        [1.        , 0.        , 0.        , ..., 0.        , 0.        ,\n",
       "         0.        ],\n",
       "        ...,\n",
       "        [0.        , 0.        , 0.        , ..., 0.12255845, 0.11727783,\n",
       "         0.05429975],\n",
       "        [0.        , 0.        , 0.        , ..., 0.1371777 , 0.14058447,\n",
       "         0.06794229],\n",
       "        [0.        , 0.        , 0.        , ..., 0.14265354, 0.1510254 ,\n",
       "         0.07336785]]))"
      ]
     },
     "execution_count": 8,
     "metadata": {},
     "output_type": "execute_result"
    }
   ],
   "source": [
    "# fetch some basic data (they have already been generated)\n",
    "pifile_lst = []\n",
    "bkgpifile_lst = []\n",
    "rmffile_lst = []\n",
    "arffile_lst = []\n",
    "z_lst = []\n",
    "nh_lst = []\n",
    "\n",
    "for i in range(200):\n",
    "    pifile = \"./data/pobb/pobb_spec/%05d_pobb.pi\"%i\n",
    "    with fits.open(pifile) as hdu:\n",
    "        head = hdu[1].header\n",
    "    path = os.path.dirname(pifile)\n",
    "    bkgpifile = os.path.join(path,head[\"BACKFILE\"])\n",
    "    rmffile = os.path.join(path,head[\"RESPFILE\"])\n",
    "    arffile = os.path.join(path,head[\"ANCRFILE\"])\n",
    "    zfile = os.path.join(path,head[\"ZFILE\"])        # file storing redshift\n",
    "    with open(zfile,\"r\") as f:\n",
    "        z = f.readlines()\n",
    "    z = float(z[0].rstrip())\n",
    "\n",
    "    pifile_lst.append(pifile)\n",
    "    bkgpifile_lst.append(bkgpifile)\n",
    "    rmffile_lst.append(rmffile)\n",
    "    arffile_lst.append(arffile)\n",
    "    z_lst.append(z)\n",
    "\n",
    "# run Xstack\n",
    "XstackRunner(\n",
    "    pifile_lst=pifile_lst,                          # PI file list\n",
    "    arffile_lst=arffile_lst,                        # ARF file list\n",
    "    rmffile_lst=rmffile_lst,                        # RMF file list\n",
    "    z_lst=z_lst,                                    # redshift list\n",
    "    bkgpifile_lst=bkgpifile_lst,                    # bkg PI file list\n",
    "    srcid_lst=np.arange(200),                       # source ID list (can be arbitary)\n",
    "    rspwt_method=\"SHP\",                             # method to calculate response weighting factor for each source (recommended: SHP)\n",
    "    rspproj_gamma=2.0,                              # prior photon index for projecting RSP matrix onto the output energy channel\n",
    "    int_rng=(1.0,2.3),                              # if `arfscal_method`=`SHP`, choose the range to calculate flux\n",
    "    sample_rmf=None,                                # the sample RMF to read input/output energy bin edge (if not specified, the first RMF in `rmffile_lst` will be used)\n",
    "    sample_arf=None,                                # the sample ARF to read input/output energy bin edge (if not specified, the first RMF in `rmffile_lst` will be used)\n",
    "    Nbkggrp=10,                                     # the number of background groups to calculate uncertainty of background\n",
    "    ene_trc=0.2,                                    # energy below which the ARF is manually truncated (e.g., 0.2 keV for eROSITA)\n",
    "    nthreads=50,                                    # number of cpus used for RMF shifting\n",
    "    prefix=\"./data/pobb/pobb_\"\t\t\t\t\t\t# prefix for all output files\n",
    ").run()"
   ]
  },
  {
   "cell_type": "code",
   "execution_count": 9,
   "metadata": {},
   "outputs": [
    {
     "name": "stderr",
     "output_type": "stream",
     "text": [
      "/Users/chensj/software/installed/miniconda3/envs/Xstack/lib/python3.11/site-packages/Xstack/misc.py:563: RuntimeWarning: divide by zero encountered in divide\n",
      "  grpbkgfrac = grpbkgpha/grppha\n"
     ]
    },
    {
     "data": {
      "text/plain": [
       "[Text(0.2, 0, '0.2'),\n",
       " Text(0.4, 0, '0.4'),\n",
       " Text(1.0, 0, '1.0'),\n",
       " Text(2.3, 0, '2.3'),\n",
       " Text(4.0, 0, '4.0'),\n",
       " Text(8.0, 0, '8.0')]"
      ]
     },
     "execution_count": 9,
     "metadata": {},
     "output_type": "execute_result"
    },
    {
     "data": {
      "image/png": "[encoded data removed]",
      "text/plain": [
       "<Figure size 400x400 with 2 Axes>"
      ]
     },
     "metadata": {},
     "output_type": "display_data"
    }
   ],
   "source": [
    "src_name = \"./data/pobb/pobb_pi.fits\"  \t\t# source spectrum file\n",
    "grp_name = \"./data/pobb/pobb_grppi.fits\"\t# grouped source spectrum file to be created\n",
    "bkg_name = \"./data/pobb/pobb_bkgpi.fits\"  \t# background spectrum file\n",
    "arf_name = \"./data/pobb/pobb_arf.fits\"  \t# ARF file\n",
    "rmf_name = \"./data/pobb/pobb_rmf.fits\"  \t# RMF file\n",
    "fene_name = \"./data/pobb/pobb_fene.fits\"  \t# file storing the energy range of the source spectrum\n",
    "\n",
    "fig, ax1 = plt.subplots(figsize=(4,4))\n",
    "valid_energy_range_plot(fene_name,src_name,grp_name,bkg_name,rmf_name,ax=ax1)\n",
    "\n",
    "ax1.set_xscale(\"log\")\n",
    "ax1.set_xlim(0.2,10)\n",
    "x_ticks = [0.2, 0.4, 1.0, 2.3, 4.0, 8.0]\n",
    "ax1.set_xticks(x_ticks)\n",
    "ax1.set_xticklabels([str(x) for x in x_ticks])"
   ]
  },
  {
   "cell_type": "code",
   "execution_count": 2,
   "metadata": {},
   "outputs": [
    {
     "name": "stderr",
     "output_type": "stream",
     "text": [
      "/Users/chensj/software/installed/miniconda3/envs/Xstack/lib/python3.11/site-packages/Xstack/misc.py:279: RuntimeWarning: invalid value encountered in divide\n",
      "  grpspecresp.append((tmpspecresp * tmpwt / tmpwt.sum()).sum())\n",
      "/Users/chensj/software/installed/miniconda3/envs/Xstack/lib/python3.11/site-packages/Xstack/misc.py:297: RuntimeWarning: invalid value encountered in divide\n",
      "  grpspecresp.append((tmpspecresp * tmpwt / tmpwt.sum()).sum())\n"
     ]
    },
    {
     "data": {
      "image/png": "[encoded data removed]",
      "text/plain": [
       "<Figure size 400x400 with 1 Axes>"
      ]
     },
     "metadata": {},
     "output_type": "display_data"
    }
   ],
   "source": [
    "src_name = \"./data/pobb/pobb_pi.fits\"  \t\t# source spectrum file\n",
    "grp_name = \"./data/pobb/pobb_grppi.fits\"\t# grouped source spectrum file to be created\n",
    "bkg_name = \"./data/pobb/pobb_bkgpi.fits\"  \t# background spectrum file\n",
    "arf_name = \"./data/pobb/pobb_arf.fits\"  \t# ARF file\n",
    "rmf_name = \"./data/pobb/pobb_rmf.fits\"  \t# RMF file\n",
    "\n",
    "# create a grouped PI spectrum\n",
    "with fits.open(rmf_name) as hdu:\n",
    "    ebo = hdu[\"EBOUNDS\"].data\n",
    "ene_lo = ebo[\"E_MIN\"]\n",
    "ene_hi = ebo[\"E_MAX\"]\n",
    "ene_ce = (ene_lo + ene_hi) / 2\n",
    "eene = np.logspace(np.log10(0.2),np.log10(ene_ce.max()),18)\n",
    "eelo = eene[:-1]\n",
    "eehi = eene[1:]\n",
    "make_grpflg(\n",
    "    src_name,   # source spectrum file\n",
    "    grp_name,   # output grouped spectrum file\n",
    "    method='EDGE',  # grouping spectrum by fixed edges, as specified in `eelo` and `eehi`\n",
    "    rmf_file=rmf_name,  # RMF file to be used for reading PI energy channels\n",
    "    eelo=eelo,  # lower edges of the grouped energy channels\n",
    "    eehi=eehi   # upper edges of the grouped energy channels\n",
    ")\n",
    "\n",
    "# make data/arf plot\n",
    "fig, ax1 = plt.subplots(figsize=(4,4))\n",
    "# for the grouped spectrum\n",
    "make_dataarf_plot(\n",
    "    src_name,\n",
    "    bkg_name,\n",
    "    arf_name,\n",
    "    rmf_name,\n",
    "    grp_name,\n",
    "    normalize_at=4,\t# normalize at 4 keV\n",
    "    plot=True,\n",
    "    ax=ax1,\n",
    "    fmt=\"o-\",ms=3.5,lw=0.20,c=\"k\",capsize=0.,elinewidth=1.0,mec=\"k\",mfc=\"#f9d7a7\",alpha=0.8,zorder=1,label=\"binned spec\"\t# plotting kwargs\n",
    ") # this plots EF(E), or equivalently leed in xspec; a powerlaw with photon index of 2 should look flat in this plot\n",
    "# for the ungrouped spectrum\n",
    "make_dataarf_plot(\n",
    "    src_name,\n",
    "    bkg_name,\n",
    "    arf_name,\n",
    "    rmf_name,\n",
    "    normalize_at=4,\t# normalize at 4 keV\n",
    "    plot=True,\n",
    "    ax=ax1,\n",
    "    fmt=\"o\",ms=0.3,lw=0.1,c=\"gray\",alpha=0.5,zorder=-5,label=\"unbinned spec\"\n",
    ")\n",
    "\n",
    "# below 0.3 keV: too few sources; above 8.0 keV: bkg dominated\n",
    "ax1.fill_betweenx(y=[0.5,10], x1=0.2, x2=0.3, color=\"orange\", alpha=0.3, zorder=-1) \n",
    "ax1.fill_betweenx(y=[0.5,10], x1=8.0, x2=10.0, color=\"orange\", alpha=0.3, zorder=-1) \n",
    "\n",
    "ax1.legend(loc=\"upper right\",fontsize=12)\n",
    "ax1.set_xscale(\"log\")\n",
    "ax1.set_xlim(0.2,10)\n",
    "x_ticks = [0.3, 0.5, 1.0, 2.3, 6.0, 8.0]\n",
    "ax1.set_xticks(x_ticks)\n",
    "ax1.set_xticklabels([str(x) for x in x_ticks])\n",
    "ax1.set_xlabel(\"Energy (keV)\",fontsize=12)\n",
    "ax1.tick_params(\"x\",which=\"major\",\n",
    "                length=10,width = 1.0,size=5,labelsize=8,pad=3)\n",
    "ax1.tick_params(\"x\",which=\"minor\",\n",
    "                length=10,width = 1.0,size=5,labelsize=8,pad=3)\n",
    "ax1.set_ylim(0.5,10)\n",
    "ax1.set_yscale(\"log\")\n",
    "y_ticks = [1,10]\n",
    "ax1.set_yticks(y_ticks)\n",
    "ax1.set_yticklabels([str(y) for y in y_ticks])\n",
    "ax1.set_ylabel(r\"Normalized $EF_E$\",fontsize=12)\n",
    "ax1.tick_params(\"y\",which=\"major\",\n",
    "                length=10,width = 1.0,size=5,labelsize=8)\n",
    "ax1.tick_params(\"y\",which=\"minor\",\n",
    "                length=10,width = 1.0,size=5,labelsize=8)"
   ]
  },
  {
   "cell_type": "markdown",
   "metadata": {},
   "source": [
    "## **e.g.4**: absorbed primary continuum (powerlaw) + soft excess (bbody)"
   ]
  },
  {
   "cell_type": "code",
   "execution_count": 3,
   "metadata": {},
   "outputs": [
    {
     "name": "stdout",
     "output_type": "stream",
     "text": [
      "#######################################################\n",
      "################ Welcome to Xstack! ###################\n",
      "#######################################################\n",
      "Version: 0.1.0\n",
      "Last updated: 2025/07/18\n",
      "******************* Input Summary *********************\n",
      "Number of sources: 200\n",
      "Redshift range: 0.300 -- 1.995\n",
      "NH range: 3.112857825192106e+18 -- 9.893400561666382e+20\n",
      "NH file: /Users/chensj/software/installed/miniconda3/envs/Xstack/lib/python3.11/site-packages/Xstack/tbabs_1e20.txt\n",
      "RSP weighting method: SHP\n",
      "RSP projection gamma: 2.0\n",
      "Flux calculation range: 1.0 -- 2.3 keV (used only in `SHP` mode)\n",
      "ARF Truncation energy: 0.2 keV\n",
      "Number of CPUs used for shifting RMF: 50\n",
      "Number of background groups: 10\n",
      "Output directory: ./data/abspobb\n",
      "Output PI spectrum (base)name: ./data/abspobb/abspobb_pi.fits\n",
      "Output bkg PI spectrum (base)name: ./data/abspobb/abspobb_bkgpi.fits\n",
      "Output ARF (base)name: ./data/abspobb/abspobb_arf.fits\n",
      "Output RMF (base)name: ./data/abspobb/abspobb_rmf.fits\n",
      "Output FENE (base)name: ./data/abspobb/abspobb_fene.fits\n",
      "*******************************************************\n",
      "\n",
      "******************* Shifting ... **********************\n"
     ]
    },
    {
     "name": "stderr",
     "output_type": "stream",
     "text": [
      "100%|██████████| 200/200 [01:02<00:00,  3.19it/s]\n"
     ]
    },
    {
     "name": "stdout",
     "output_type": "stream",
     "text": [
      "\n",
      "******************* Stacking ... **********************\n"
     ]
    },
    {
     "name": "stderr",
     "output_type": "stream",
     "text": [
      "100%|██████████| 200/200 [00:01<00:00, 191.12it/s]\n"
     ]
    },
    {
     "name": "stdout",
     "output_type": "stream",
     "text": [
      "****** Response weighting factor for each source ******\n",
      "`SHP` mode: assuming all sources have similar spectral shape, and all weights sum to 1 (normalized)\n",
      "`FLX` mode: assuming all sources have similar spectral shape + flux, and weights equal to the exposure time\n",
      "`LMN` mode: assuming all sources have similar spectral shape + luminosity, and weights equal to expo / distance^2\n",
      "Below is your response weighting factor list (`SHP` mode):\n",
      "[ 4.55892147e-03  8.88698551e-04  6.18533939e-02  3.39321351e-03\n",
      "  4.66088237e-03  8.52738599e-03  6.33506992e-03  2.75183151e-03\n",
      "  5.00043524e-03  3.06344242e-03  1.25608851e-03  2.01026097e-03\n",
      "  2.05030237e-03  2.06800680e-04  6.58160315e-03  3.67313789e-04\n",
      "  6.48796097e-04  2.97978804e-03  1.34799972e-02  1.55613090e-03\n",
      "  3.32183803e-04  1.45742353e-04  1.15988639e-03  1.66731981e-03\n",
      "  3.43929897e-04  1.65594841e-03  1.15944665e-02  3.21936435e-02\n",
      "  1.07092300e-02  1.19263172e-03  8.36592169e-03  2.03161286e-03\n",
      "  2.66105680e-04  8.15845023e-04  6.18297824e-04  3.62510113e-03\n",
      "  3.83561613e-04  4.90516755e-04  1.56080218e-02  1.30409915e-03\n",
      "  2.22392275e-04  1.80750371e-03  3.10114109e-03  2.90603826e-04\n",
      "  1.58565304e-02  1.80954309e-03  1.16299914e-04  1.98362518e-03\n",
      "  4.01965781e-03  1.84616458e-02  5.75296645e-03  2.27868239e-03\n",
      "  3.03730482e-03  8.58191351e-03  1.89641295e-03  2.76487711e-02\n",
      "  9.53396368e-04  8.03348900e-03  5.89116988e-04  1.00315257e-03\n",
      "  1.56574015e-02  3.46664438e-03  1.31137141e-03  3.00888987e-03\n",
      "  3.02558316e-02  6.32992995e-04  9.69161538e-04  1.31036046e-03\n",
      "  4.85811804e-04  5.84214643e-04  1.49183636e-04  3.97401421e-03\n",
      "  8.23929332e-03  2.59350827e-04  4.93389484e-03  7.82082700e-03\n",
      "  1.06140574e-05  1.48255166e-03  6.34455359e-04  1.14384175e-03\n",
      "  8.69256973e-04  2.33933594e-03  9.94856735e-04  1.23876515e-03\n",
      "  1.28190397e-03  8.91927049e-04  1.62163717e-03  6.50168428e-04\n",
      "  1.18962167e-03  1.29907563e-03  8.19982422e-03  3.61284748e-04\n",
      "  1.63211898e-03  9.54429772e-04  1.21105168e-03  1.43835580e-03\n",
      "  4.99019085e-04  4.87149875e-04  6.34616799e-02  5.88291934e-04\n",
      "  5.22534780e-03  2.77126237e-03  8.21170961e-04  2.61607405e-03\n",
      "  5.88124342e-05  7.09111802e-04  1.27768618e-02  1.86062059e-04\n",
      "  7.43341344e-04 -3.38637297e-05  1.34739711e-02  1.70739451e-02\n",
      "  2.80755861e-04  3.64636836e-04  5.44683263e-03  8.38550505e-04\n",
      "  1.11197207e-03  3.48245375e-04  4.03512913e-04  1.49593382e-02\n",
      "  1.42176904e-02  2.10153779e-02  8.23890442e-03  1.37630884e-03\n",
      "  5.79992438e-04  7.47216608e-04  5.47545411e-04  7.94631730e-04\n",
      "  8.26730434e-03  3.70092795e-03  2.90383760e-04  9.59171247e-04\n",
      "  5.91014485e-04  1.85738054e-02  7.61253582e-04  1.33833777e-03\n",
      "  2.66818574e-04  4.17715689e-03  1.12402189e-03  7.07355827e-04\n",
      "  2.36619781e-03  1.84439159e-02  2.50173857e-02  1.54942977e-02\n",
      "  5.63654829e-03  1.11532908e-02  5.25825670e-03  8.17266396e-04\n",
      "  2.16181423e-03  7.20404657e-03  1.99553866e-02  7.43842420e-04\n",
      "  4.88087982e-04  2.28486930e-03  4.64501064e-03  5.68235469e-04\n",
      "  7.81823500e-03  5.99614409e-04  5.15899724e-04  1.91561506e-03\n",
      "  2.00380120e-03  3.50563243e-04  1.89576888e-03  5.48674919e-04\n",
      "  1.64850990e-02  2.40972420e-02  3.42446662e-02  1.32813489e-03\n",
      "  7.61253711e-04  3.37503930e-04  1.60936011e-03  1.95932844e-04\n",
      "  6.63661182e-04  3.20902689e-03  4.15033930e-04  5.76636962e-04\n",
      "  2.28179364e-03  4.48950791e-03  1.75754346e-02  8.58784772e-04\n",
      "  5.07133799e-04  4.61439174e-03  2.39560708e-03  5.34568076e-03\n",
      "  1.64954022e-03  4.98566668e-05  7.69685048e-03  4.81736491e-04\n",
      "  6.24694116e-04  5.60929541e-05  1.72609004e-03  2.21389144e-02\n",
      "  3.02195412e-04  2.55269995e-04  7.90178605e-04  1.13869259e-03\n",
      "  1.49625437e-02  6.88217329e-03  1.12533029e-03  1.31135419e-04]\n",
      "Full list can be seen in the `WEIGHT` extension of the output ARF file.\n",
      "*******************************************************\n",
      "\n",
      "#######################################################\n",
      "########## Stacking 200 spectra completed! ###########\n",
      "#######################################################\n",
      "Stacked PI spectrum saved to: ./data/abspobb/abspobb_pi.fits\n",
      "Stacked BKGPI spectrum saved to: ./data/abspobb/abspobb_bkgpi.fits\n",
      "Stacked ARF saved to: ./data/abspobb/abspobb_arf.fits\n",
      "Stacked RMF saved to: ./data/abspobb/abspobb_rmf.fits\n",
      "Stacked FENE saved to: ./data/abspobb/abspobb_fene.fits\n",
      "\n",
      "# NOTE: the output stacked spectra have {BACK,AREA,CORR}SCAL=1, even though the inputs have different ratios. This is because these information have already gone into the background spectrum by scaling it.\n",
      "\n"
     ]
    },
    {
     "data": {
      "text/plain": [
       "(array([ 0.,  0.,  0., ..., 11., 21.,  0.]),\n",
       " array([0.        , 0.        , 0.        , ..., 3.31662479, 4.58257569,\n",
       "        0.        ]),\n",
       " array([ 0.        ,  0.        ,  0.        , ..., 19.85741362,\n",
       "        21.1269467 ,  8.38370901]),\n",
       " array([0.        , 0.        , 0.        , ..., 0.68967648, 0.7113813 ,\n",
       "        0.4481281 ]),\n",
       " array([ 0.        ,  0.        ,  0.        , ..., 31.35233195,\n",
       "        31.10755957, 13.19282201]),\n",
       " array([[1.        , 0.        , 0.        , ..., 0.        , 0.        ,\n",
       "         0.        ],\n",
       "        [1.        , 0.        , 0.        , ..., 0.        , 0.        ,\n",
       "         0.        ],\n",
       "        [1.        , 0.        , 0.        , ..., 0.        , 0.        ,\n",
       "         0.        ],\n",
       "        ...,\n",
       "        [0.        , 0.        , 0.        , ..., 0.12287388, 0.11752579,\n",
       "         0.05478885],\n",
       "        [0.        , 0.        , 0.        , ..., 0.13755555, 0.14098075,\n",
       "         0.06861925],\n",
       "        [0.        , 0.        , 0.        , ..., 0.14326102, 0.15173325,\n",
       "         0.07420759]]))"
      ]
     },
     "execution_count": 3,
     "metadata": {},
     "output_type": "execute_result"
    }
   ],
   "source": [
    "# fetch some basic data (they have already been generated)\n",
    "pifile_lst = []\n",
    "bkgpifile_lst = []\n",
    "rmffile_lst = []\n",
    "arffile_lst = []\n",
    "z_lst = []\n",
    "nh_lst = []\n",
    "\n",
    "for i in range(200):\n",
    "    pifile = \"./data/abspobb/abspobb_spec/%05d_abspobb.pi\"%i\n",
    "    with fits.open(pifile) as hdu:\n",
    "        head = hdu[1].header\n",
    "    path = os.path.dirname(pifile)\n",
    "    bkgpifile = os.path.join(path,head[\"BACKFILE\"])\n",
    "    rmffile = os.path.join(path,head[\"RESPFILE\"])\n",
    "    arffile = os.path.join(path,head[\"ANCRFILE\"])\n",
    "    zfile = os.path.join(path,head[\"ZFILE\"])        # file storing redshift\n",
    "    nhfile = os.path.join(path,head[\"NHFILE\"])        # file storing NH\n",
    "    with open(zfile,\"r\") as f:\n",
    "        z = f.readlines()\n",
    "    z = float(z[0].rstrip())\n",
    "    with open(nhfile,\"r\") as f:\n",
    "        nh = f.readlines()\n",
    "    nh = float(nh[0].rstrip())\n",
    "\n",
    "    pifile_lst.append(pifile)\n",
    "    bkgpifile_lst.append(bkgpifile)\n",
    "    rmffile_lst.append(rmffile)\n",
    "    arffile_lst.append(arffile)\n",
    "    z_lst.append(z)\n",
    "    nh_lst.append(nh)\n",
    "\n",
    "# run Xstack\n",
    "XstackRunner(\n",
    "    pifile_lst=pifile_lst,                          # PI file list\n",
    "    arffile_lst=arffile_lst,                        # ARF file list\n",
    "    rmffile_lst=rmffile_lst,                        # RMF file list\n",
    "    z_lst=z_lst,                                    # redshift list\n",
    "    bkgpifile_lst=bkgpifile_lst,                    # bkg PI file list\n",
    "    nh_lst=nh_lst,                                  # nh list\n",
    "    srcid_lst=np.arange(200),                       # source ID list (can be arbitary)\n",
    "    rspwt_method=\"SHP\",                             # method to calculate response weighting factor for each source (recommended: SHP)\n",
    "    rspproj_gamma=2.0,                              # prior photon index for projecting RSP matrix onto the output energy channel\n",
    "    int_rng=(1.0,2.3),                              # if `arfscal_method`=`SHP`, choose the range to calculate flux\n",
    "    sample_rmf=None,                                # the sample RMF to read input/output energy bin edge (if not specified, the first RMF in `rmffile_lst` will be used)\n",
    "    sample_arf=None,                                # the sample ARF to read input/output energy bin edge (if not specified, the first RMF in `rmffile_lst` will be used)\n",
    "    nh_file=Xstack.default_nh_file,                 # the Galactic absorption profile (absorption factor vs. energy)\n",
    "    Nbkggrp=10,                                     # the number of background groups to calculate uncertainty of background\n",
    "    ene_trc=0.2,                                    # energy below which the ARF is manually truncated (e.g., 0.2 keV for eROSITA)\n",
    "    nthreads=50,                                    # number of cpus used for RMF shifting\n",
    "    prefix=\"./data/abspobb/abspobb_\"\t\t\t\t# prefix for all output files\n",
    ").run()"
   ]
  },
  {
   "cell_type": "code",
   "execution_count": 4,
   "metadata": {},
   "outputs": [
    {
     "name": "stderr",
     "output_type": "stream",
     "text": [
      "/Users/chensj/software/installed/miniconda3/envs/Xstack/lib/python3.11/site-packages/Xstack/misc.py:570: RuntimeWarning: divide by zero encountered in divide\n",
      "  grpbkgfrac = grpbkgpha/grppha\n"
     ]
    },
    {
     "data": {
      "text/plain": [
       "[Text(0.2, 0, '0.2'),\n",
       " Text(0.4, 0, '0.4'),\n",
       " Text(1.0, 0, '1.0'),\n",
       " Text(2.3, 0, '2.3'),\n",
       " Text(4.0, 0, '4.0'),\n",
       " Text(8.0, 0, '8.0')]"
      ]
     },
     "execution_count": 4,
     "metadata": {},
     "output_type": "execute_result"
    },
    {
     "data": {
      "image/png": "[encoded data removed]",
      "text/plain": [
       "<Figure size 400x400 with 2 Axes>"
      ]
     },
     "metadata": {},
     "output_type": "display_data"
    }
   ],
   "source": [
    "src_name = \"./data/abspobb/abspobb_pi.fits\"  \t\t# source spectrum file\n",
    "grp_name = \"./data/abspobb/abspobb_grppi.fits\"\t\t# grouped source spectrum file to be created\n",
    "bkg_name = \"./data/abspobb/abspobb_bkgpi.fits\"  \t# background spectrum file\n",
    "arf_name = \"./data/abspobb/abspobb_arf.fits\"  \t\t# ARF file\n",
    "rmf_name = \"./data/abspobb/abspobb_rmf.fits\"  \t\t# RMF file\n",
    "fene_name = \"./data/abspobb/abspobb_fene.fits\"  \t# file storing the energy range of the source spectrum\n",
    "\n",
    "fig, ax1 = plt.subplots(figsize=(4,4))\n",
    "valid_energy_range_plot(fene_name,src_name,grp_name,bkg_name,rmf_name,ax=ax1)\n",
    "\n",
    "ax1.set_xscale(\"log\")\n",
    "ax1.set_xlim(0.2,10)\n",
    "x_ticks = [0.2, 0.4, 1.0, 2.3, 4.0, 8.0]\n",
    "ax1.set_xticks(x_ticks)\n",
    "ax1.set_xticklabels([str(x) for x in x_ticks])"
   ]
  },
  {
   "cell_type": "code",
   "execution_count": 5,
   "metadata": {},
   "outputs": [
    {
     "name": "stderr",
     "output_type": "stream",
     "text": [
      "/Users/chensj/software/installed/miniconda3/envs/Xstack/lib/python3.11/site-packages/Xstack/misc.py:279: RuntimeWarning: invalid value encountered in divide\n",
      "  grpspecresp.append((tmpspecresp * tmpwt / tmpwt.sum()).sum())\n",
      "/Users/chensj/software/installed/miniconda3/envs/Xstack/lib/python3.11/site-packages/Xstack/misc.py:297: RuntimeWarning: invalid value encountered in divide\n",
      "  grpspecresp.append((tmpspecresp * tmpwt / tmpwt.sum()).sum())\n"
     ]
    },
    {
     "data": {
      "image/png": "[encoded data removed]",
      "text/plain": [
       "<Figure size 400x400 with 1 Axes>"
      ]
     },
     "metadata": {},
     "output_type": "display_data"
    }
   ],
   "source": [
    "src_name = \"./data/abspobb/abspobb_pi.fits\"  \t\t# source spectrum file\n",
    "grp_name = \"./data/abspobb/abspobb_grppi.fits\"\t\t# grouped source spectrum file to be created\n",
    "bkg_name = \"./data/abspobb/abspobb_bkgpi.fits\"  \t# background spectrum file\n",
    "arf_name = \"./data/abspobb/abspobb_arf.fits\"  \t\t# ARF file\n",
    "rmf_name = \"./data/abspobb/abspobb_rmf.fits\"  \t\t# RMF file\n",
    "\n",
    "# create a grouped PI spectrum\n",
    "with fits.open(rmf_name) as hdu:\n",
    "    ebo = hdu[\"EBOUNDS\"].data\n",
    "ene_lo = ebo[\"E_MIN\"]\n",
    "ene_hi = ebo[\"E_MAX\"]\n",
    "ene_ce = (ene_lo + ene_hi) / 2\n",
    "eene = np.logspace(np.log10(0.2),np.log10(ene_ce.max()),18)\n",
    "eelo = eene[:-1]\n",
    "eehi = eene[1:]\n",
    "make_grpflg(\n",
    "    src_name,   # source spectrum file\n",
    "    grp_name,   # output grouped spectrum file\n",
    "    method='EDGE',  # grouping spectrum by fixed edges, as specified in `eelo` and `eehi`\n",
    "    rmf_file=rmf_name,  # RMF file to be used for reading PI energy channels\n",
    "    eelo=eelo,  # lower edges of the grouped energy channels\n",
    "    eehi=eehi   # upper edges of the grouped energy channels\n",
    ")\n",
    "\n",
    "# make data/arf plot\n",
    "fig, ax1 = plt.subplots(figsize=(4,4))\n",
    "# for the grouped spectrum\n",
    "make_dataarf_plot(\n",
    "    src_name,\n",
    "    bkg_name,\n",
    "    arf_name,\n",
    "    rmf_name,\n",
    "    grp_name,\n",
    "    normalize_at=4,\t# normalize at 4 keV\n",
    "    plot=True,\n",
    "    ax=ax1,\n",
    "    fmt=\"o-\",ms=3.5,lw=0.20,c=\"k\",capsize=0.,elinewidth=1.0,mec=\"k\",mfc=\"#f9d7a7\",alpha=0.8,zorder=1,label=\"binned spec\"\t# plotting kwargs\n",
    ") # this plots EF(E), or equivalently leed in xspec; a powerlaw with photon index of 2 should look flat in this plot\n",
    "# for the ungrouped spectrum\n",
    "make_dataarf_plot(\n",
    "    src_name,\n",
    "    bkg_name,\n",
    "    arf_name,\n",
    "    rmf_name,\n",
    "    normalize_at=4,\t# normalize at 4 keV\n",
    "    plot=True,\n",
    "    ax=ax1,\n",
    "    fmt=\"o\",ms=0.3,lw=0.1,c=\"gray\",alpha=0.5,zorder=-5,label=\"unbinned spec\"\n",
    ")\n",
    "\n",
    "# below 0.3 keV: too few sources; above 8.0 keV: bkg dominated\n",
    "ax1.fill_betweenx(y=[0.5,10], x1=0.2, x2=0.3, color=\"orange\", alpha=0.3, zorder=-1) \n",
    "ax1.fill_betweenx(y=[0.5,10], x1=8.0, x2=10.0, color=\"orange\", alpha=0.3, zorder=-1) \n",
    "\n",
    "ax1.legend(loc=\"upper right\",fontsize=12)\n",
    "ax1.set_xscale(\"log\")\n",
    "ax1.set_xlim(0.2,10)\n",
    "x_ticks = [0.3, 0.5, 1.0, 2.3, 6.0, 8.0]\n",
    "ax1.set_xticks(x_ticks)\n",
    "ax1.set_xticklabels([str(x) for x in x_ticks])\n",
    "ax1.set_xlabel(\"Energy (keV)\",fontsize=12)\n",
    "ax1.tick_params(\"x\",which=\"major\",\n",
    "                length=10,width = 1.0,size=5,labelsize=8,pad=3)\n",
    "ax1.tick_params(\"x\",which=\"minor\",\n",
    "                length=10,width = 1.0,size=5,labelsize=8,pad=3)\n",
    "ax1.set_ylim(0.5,10)\n",
    "ax1.set_yscale(\"log\")\n",
    "y_ticks = [1,10]\n",
    "ax1.set_yticks(y_ticks)\n",
    "ax1.set_yticklabels([str(y) for y in y_ticks])\n",
    "ax1.set_ylabel(r\"Normalized $EF_E$\",fontsize=12)\n",
    "ax1.tick_params(\"y\",which=\"major\",\n",
    "                length=10,width = 1.0,size=5,labelsize=8)\n",
    "ax1.tick_params(\"y\",which=\"minor\",\n",
    "                length=10,width = 1.0,size=5,labelsize=8)"
   ]
  },
  {
   "cell_type": "markdown",
   "metadata": {},
   "source": [
    "# **3. (optional) Generate some fake spectra**"
   ]
  },
  {
   "cell_type": "markdown",
   "metadata": {},
   "source": [
    "## single powerlaws"
   ]
  },
  {
   "cell_type": "code",
   "execution_count": 24,
   "metadata": {},
   "outputs": [
    {
     "name": "stdout",
     "output_type": "stream",
     "text": [
      "100%|█████████████████████████████████████████| 200/200 [00:04<00:00, 44.01it/s]\n"
     ]
    }
   ],
   "source": [
    "# subprocess.run([\"python\", \"./generate_scripts/generate_po.py\"],stdin=devnull) # gives wrong HEADER\n",
    "!python ./generate_scripts/generate_po.py"
   ]
  },
  {
   "cell_type": "markdown",
   "metadata": {},
   "source": [
    "## single absorbed powerlaw"
   ]
  },
  {
   "cell_type": "code",
   "execution_count": 7,
   "metadata": {},
   "outputs": [
    {
     "name": "stdout",
     "output_type": "stream",
     "text": [
      "100%|█████████████████████████████████████████| 200/200 [00:05<00:00, 34.30it/s]\n"
     ]
    }
   ],
   "source": [
    "!python ./generate_scripts/generate_abspo.py"
   ]
  },
  {
   "cell_type": "markdown",
   "metadata": {},
   "source": [
    "## primary continuum (powerlaw) + soft excess (bbody)"
   ]
  },
  {
   "cell_type": "code",
   "execution_count": 17,
   "metadata": {},
   "outputs": [
    {
     "name": "stdout",
     "output_type": "stream",
     "text": [
      "100%|█████████████████████████████████████████| 200/200 [00:04<00:00, 46.13it/s]\n"
     ]
    }
   ],
   "source": [
    "!python ./generate_scripts/generate_pobb.py"
   ]
  },
  {
   "cell_type": "markdown",
   "metadata": {},
   "source": [
    "## absorbed primary continuum (powerlaw) + soft excess (bbody)"
   ]
  },
  {
   "cell_type": "code",
   "execution_count": 20,
   "metadata": {},
   "outputs": [
    {
     "name": "stdout",
     "output_type": "stream",
     "text": [
      "100%|█████████████████████████████████████████| 200/200 [00:07<00:00, 26.48it/s]\n"
     ]
    }
   ],
   "source": [
    "!python ./generate_scripts/generate_abspobb.py"
   ]
  },
  {
   "cell_type": "code",
   "execution_count": null,
   "metadata": {},
   "outputs": [],
   "source": []
  }
 ],
 "metadata": {
  "kernelspec": {
   "display_name": "Xstack",
   "language": "python",
   "name": "python3"
  },
  "language_info": {
   "codemirror_mode": {
    "name": "ipython",
    "version": 3
   },
   "file_extension": ".py",
   "mimetype": "text/x-python",
   "name": "python",
   "nbconvert_exporter": "python",
   "pygments_lexer": "ipython3",
   "version": "3.11.11"
  }
 },
 "nbformat": 4,
 "nbformat_minor": 2
}
