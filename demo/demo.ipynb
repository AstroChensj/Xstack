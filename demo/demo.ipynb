{
 "cells": [
  {
   "cell_type": "markdown",
   "metadata": {},
   "source": [
    "**A brief overview of <span style=\"font-family: 'Courier New', Courier, monospace; font-weight: 700;\">Xstack</span>**:\n",
    "\n",
    "<span style=\"font-family: 'Courier New', Courier, monospace; font-weight: 700;\">Xstack</span> is a open-source, light-weight code for **X-ray spectral shifting and stacking**. \n",
    "\n",
    "Given the **redshift** of each spectrum in a list, <span style=\"font-family: 'Courier New', Courier, monospace; font-weight: 700;\">Xstack</span> will first shift these spectra *(PHA, counts vs. output energy (channel))* from observed-frame to rest-frame, and then sum them together. The response matrix files *(RMF, the probability that a photon with input energy $E_1$ will be detected with an output energy $E_2$)* and ancillary response files *(ARF, effective area vs. input energy)* are shifted and stacked in a similar way to the spectrum. <span style=\"font-family: 'Courier New', Courier, monospace; font-weight: 700;\">Xstack</span> also supports correction of Galactic absorption, if an additional **NH** value (in units of 1 $\\text{cm}^{-2}$) for each spectrum is given.\n",
    "\n",
    "In this demo, a preliminary example is provided (stacking powerlaws) to help you get started with <span style=\"font-family: 'Courier New', Courier, monospace; font-weight: 700;\">Xstack</span>. Running <span style=\"font-family: 'Courier New', Courier, monospace; font-weight: 700;\">Xstack</span> is essentially convenient: you simply need to specify where the spectral files are stored, along with the redshift and Galactic absorption (if possible). After that, you can run <span style=\"font-family: 'Courier New', Courier, monospace; font-weight: 700;\">Xstack</span> in one go."
   ]
  },
  {
   "cell_type": "code",
   "execution_count": 11,
   "metadata": {},
   "outputs": [],
   "source": [
    "# the main module\n",
    "from Xstack import Xstack\n",
    "from Xstack.Xstack import XstackRunner\n",
    "\n",
    "# some miscellaneous packages for plotting, and generating fake spectra\n",
    "from Xstack.simulate_spec import make_fkspec\n",
    "from Xstack.misc import make_grpflg,rebin_pi,rebin_arf\n",
    "from Xstack.shift_arf import align_arf\n",
    "\n",
    "# the usual packages\n",
    "import numpy as np\n",
    "from matplotlib import pyplot as plt\n",
    "from astropy.io import fits\n",
    "from tqdm import tqdm\n",
    "import os\n",
    "from joblib import Parallel,delayed\n",
    "import subprocess\n",
    "import warnings"
   ]
  },
  {
   "cell_type": "markdown",
   "metadata": {},
   "source": [
    "# **1. Primary example: stacking single powerlaws**\n",
    "***with different redshift, photon indices, and luminosities***"
   ]
  },
  {
   "cell_type": "markdown",
   "metadata": {},
   "source": [
    "I have already generated 200 powerlaws with different redshifts ($0.3<z<2.0$), rest-frame 0.5-10 keV luminosities ($44.5<\\log L_\\text{0.5-10}<45.5$) and photon indices ($1.9<\\Gamma<2.1$), based on the ARF, RMF, and background information of an arbitary *eROSITA* observation (eFEDS ID: 00007). These spectral files are stored in `./data/po/po_spec`. The redshift of each source is recorded as `./data/po/po_spec/{srcid}_po.pi.z`\n",
    "\n",
    "Now let us walk through the basic procedures of running <span style=\"font-family: 'Courier New', Courier, monospace; font-weight: 700;\">Xstack</span>."
   ]
  },
  {
   "cell_type": "markdown",
   "metadata": {},
   "source": [
    "## **Step 1**: Initialize <span style=\"font-family: 'Courier New', Courier, monospace; font-weight: 700;\">Xstack</span>"
   ]
  },
  {
   "cell_type": "markdown",
   "metadata": {},
   "source": [
    "You will first tell <span style=\"font-family: 'Courier New', Courier, monospace; font-weight: 700;\">Xstack</span> where your spectral files are stored. The block below fetches some basic data."
   ]
  },
  {
   "cell_type": "code",
   "execution_count": 31,
   "metadata": {},
   "outputs": [],
   "source": [
    "# fetch some basic data (they have already been generated)\n",
    "pifile_lst = []\n",
    "bkgpifile_lst = []\n",
    "rmffile_lst = []\n",
    "arffile_lst = []\n",
    "z_lst = []\n",
    "\n",
    "for i in range(200):\n",
    "    pifile = './data/po/po_spec/%05d_po.pi'%i\n",
    "    with fits.open(pifile) as hdu:\n",
    "        head = hdu[1].header\n",
    "    path = os.path.dirname(pifile)\n",
    "    bkgpifile = os.path.join(path,head['BACKFILE'])\n",
    "    rmffile = os.path.join(path,head['RESPFILE'])\n",
    "    arffile = os.path.join(path,head['ANCRFILE'])\n",
    "    zfile = os.path.join(path,head['ZFILE'])        # file storing redshift\n",
    "    with open(zfile,'r') as f:\n",
    "        z = f.readlines()\n",
    "    z = float(z[0].rstrip())\n",
    "\n",
    "    pifile_lst.append(pifile)\n",
    "    bkgpifile_lst.append(bkgpifile)\n",
    "    rmffile_lst.append(rmffile)\n",
    "    arffile_lst.append(arffile)\n",
    "    z_lst.append(z)"
   ]
  },
  {
   "cell_type": "markdown",
   "metadata": {},
   "source": [
    "Initialize <span style=\"font-family: 'Courier New', Courier, monospace; font-weight: 700;\">Xstack</span> as follows:"
   ]
  },
  {
   "cell_type": "code",
   "execution_count": 32,
   "metadata": {},
   "outputs": [],
   "source": [
    "data_po = XstackRunner(\n",
    "    pifile_lst=pifile_lst,                          # PI file list\n",
    "    arffile_lst=arffile_lst,                        # ARF file list\n",
    "    rmffile_lst=rmffile_lst,                        # RMF file list\n",
    "    z_lst=z_lst,                                    # redshift list\n",
    "    bkgpifile_lst=bkgpifile_lst,                    # bkg PI file list\n",
    "    srcid_lst=np.arange(200),                       # source ID list (can be arbitary)\n",
    "    arfscal_method='SHP',                           # method to calculate ARF weighting factor for each source (recommended: SHP)\n",
    "    int_rng=(1.0,2.3),                              # if `arfscal_method`=`SHP`, choose the range to calculate flux\n",
    "    rmfsft_method='NONPAR',                         # method to shift RMF\n",
    "    sample_rmf=None,                                # the sample RMF to read input/output energy bin edge (if not specified, the first RMF in `rmffile_lst` will be used)\n",
    "    sample_arf=None,                                # the sample ARF to read input/output energy bin edge (if not specified, the first RMF in `rmffile_lst` will be used)\n",
    "    Nbkggrp=10,                                     # the number of background groups to calculate uncertainty of background\n",
    "    ene_trc=0.2,                                    # energy below which the ARF is manually truncated (e.g., 0.2 keV for eROSITA)\n",
    "    rm_ene_dsp=True,                                # whether or not to remove the energy dispersion map\n",
    "    usecpu=50,                                      # number of cpus used for RMF shifting\n",
    "    o_pi_name='./data/po/po.pi',                    # name of output PI spectrum file\n",
    "    o_bkgpi_name='./data/po/po_bkg.pi',             # name of output background PI spectrum file\n",
    "    o_arf_name='./data/po/po.arf',                  # name of output ARF file\n",
    "    o_rmf_name='./data/po/po.rmf',                  # name of output RMF file\n",
    "    fene_name='./data/po/po.fene',                  # name of output fenergy file\n",
    ")"
   ]
  },
  {
   "cell_type": "markdown",
   "metadata": {},
   "source": [
    "**Some notes:**\n",
    "\n",
    "The X-ray spectrum (PHA, counts vs. output energy (channel)) we observe is the convolution result of the intrinsic model and instrument response. The basic formula that connects these quantities together is:\n",
    "\n",
    "$$\n",
    "\\begin{align}\n",
    "\\lambda_i=\\sum_j R_{ij}\\times A_{j}\\times F_{j}\\times \\Delta t\\times \\Delta E_{j}\n",
    "\\end{align}\n",
    "$$\n",
    "\n",
    "where:\n",
    "* $\\lambda_i$ is the expected photon counts in some output energy channel $i$ (or $E_{i}$). In units of **$\\text{counts}$**.\n",
    "* $R_{ij}$ is the probability that a photon with input energy $E_{j}$ end up in the output energy channel $i$ (or $E_{i}$). Defined by RMF. **Unitless**.\n",
    "* $A_{j}$ is the effective area for photons with input energy $E_{j}$. Defined by ARF. In units of **$\\text{cm}^2$**.\n",
    "* $F_{j}$ is the model for the source. In units of **$\\text{counts}\\ \\text{s}^{-1}\\ \\text{cm}^{-2}\\ \\text{keV}^{-1}$**.\n",
    "* $\\Delta t$ is exposure time. In units of **$\\text{s}$**.\n",
    "* $\\Delta E_{j}$ is the input energy width (usually defined by `ENERG_LO` and `ENERG_HI` in `SPECRESP` extension of ARF or `MATRIX` extension of RMF, as per OGIP standards). In units of **$\\text{keV}$**.\n",
    "\n",
    "If the photon counts are sufficiently large, we can safely infer the underlying physical model from observed spectrum and response, by spectral fitting. However, low-counts X-ray spectra are rather common in astronomical context, especially in the coming era of *eROSITA*. Although fitting individual spectrum is unreliable under this scenario, it is possible to infer the *averaged* physical model from the stacked spectrum of many sources, whose signal-to-noise ratio should be comparable to those high-counts spectra. The stacked spectrum can be formally written as:\n",
    "\n",
    "$$\n",
    "\\begin{align}\n",
    "\\lambda_i^\\text{stack}=\\sum_j R_{ij}^\\text{stack}\\times A_{j}^\\text{stack}\\times F_{j}\\times \\Delta t^\\text{stack}\\times \\Delta E_{j}\n",
    "\\end{align}\n",
    "$$\n",
    "\n",
    "where $R_{ij}^\\text{stack}$ and $A_{j}^\\text{stack}$ are the stacked RMF and stacked ARF, respectively. $F_{j}$ is the averaged model for the spectra to be stacked. $\\Delta t^\\text{stack}$ is the stacked exposure and can generally be taken as $\\Delta t^\\text{stack}=\\Delta t^1+\\Delta t^2+...+\\Delta t^N$, where the superscript $1,2,...,N$ denotes the spectrum ID. The key of X-ray spectral stacking is to find $\\lambda_i^\\text{stack}$, $R_{ij}^\\text{stack}$ and $A_{j}^\\text{stack}$.\n",
    "\n",
    "To achieve as high SNR as possible, <span style=\"font-family: 'Courier New', Courier, monospace; font-weight: 700;\">Xstack</span> sums the rest-frame photon counts of each source directly, without scaling them to a common flux level (which is the common technique of optical spectra stacking). This means that in the output energy channel $i$:\n",
    "\n",
    "$$\n",
    "\\begin{align}\n",
    "\\lambda_i^\\text{stack}=\\lambda_i^1+...+\\lambda_i^N&=\\sum_j R_{ij}^1\\times A_{j}^1\\times F_{j}^1\\times \\Delta t^1\\times \\Delta E_{j}\\\\\n",
    "&+...\\\\\n",
    "&+\\sum_j R_{ij}^N\\times A_{j}^N\\times F_{j}^N\\times \\Delta t^N\\times \\Delta E_{j}\\\\\n",
    "\\end{align}\n",
    "$$\n",
    "\n",
    "where $\\lambda_i^{1,2,...,N}$ are now the **rest-frame** photon counts. \n",
    "\n",
    "To obtain $R_{ij}^\\text{stack}$ and $A_{j}^\\text{stack}$, some prior assumption on the physical models $F_{j}^{1,2,...,N}$ should be made:\n",
    "1. **All sources have same spectral shape and same flux**: $F_{j}^{1}=F_{j}^{2}=...=F_{j}^{N}=F_{j}$. To first order approximation, $R_{ij}^\\text{stack}$ and $A_{j}^\\text{stack}$ can be written as:\n",
    "\n",
    "$$\n",
    "\\begin{align}\n",
    "A_{j}^\\text{stack}&\\approx\\frac{\\Delta t^1}{\\Delta t^\\text{stack}}\\cdot A_{j}^1+...+\\frac{\\Delta t^N}{\\Delta t^\\text{stack}}\\cdot A_{j}^N\\\\\n",
    "R_{ij}^\\text{stack}&\\approx\\frac{\\Delta t^1}{\\Delta t^\\text{stack}}\\cdot R_{ij}^1+...+\\frac{\\Delta t^N}{\\Delta t^\\text{stack}}\\cdot R_{ij}^N\n",
    "\\end{align}\n",
    "$$\n",
    "\n",
    "This ARF and RMF weighting method is specified as `FLX` (flux) in `arfscal_method`.\n",
    "\n",
    "2. **All sources have same spectral shape and same luminosity**: $F_{j}^{1}\\cdot 4\\pi (d_L^1)^2=F_{j}^{2}\\cdot 4\\pi (d_L^2)^2=...=F_{j}^{N}\\cdot 4\\pi (d_L^N)^2=F_{j}\\cdot 4\\pi\\times \\text{1 Mpc}^2$. $d_L$ is luminosity distance. Similar to the `EXP` weighting method, $R_{ij}^\\text{stack}$ and $A_{j}^\\text{stack}$ can be written as:\n",
    "\n",
    "$$\n",
    "\\begin{align}\n",
    "A_{j}^\\text{stack}&\\approx\\frac{\\Delta t^1/(d_L^1)^2}{\\Delta t^\\text{stack}/(\\text{1 Mpc})^2}\\cdot A_{j}^1+...+\\frac{\\Delta t^N/(d_L^N)^2}{\\Delta t^\\text{stack}/(\\text{1 Mpc})^2}\\cdot A_{j}^N\\\\\n",
    "R_{ij}^\\text{stack}&\\approx\\frac{\\Delta t^1/(d_L^1)^2}{\\Delta t^\\text{stack}/(\\text{1 Mpc})^2}\\cdot R_{ij}^1+...+\\frac{\\Delta t^N/(d_L^N)^2}{\\Delta t^\\text{stack}/(\\text{1 Mpc})^2}\\cdot R_{ij}^N\n",
    "\\end{align}\n",
    "$$\n",
    "\n",
    "This ARF and RMF weighting method is specified as `LMN` (luminosity) in `arfscal_method`.\n",
    "\n",
    "3. **All sources have same spectral shape** (recommended): This should be the most unbiased weighting method among the three, as it takes the minimum assumption. Omitting the mathematical details, $R_{ij}^\\text{stack}$ and $A_{j}^\\text{stack}$ can be written as:\n",
    "\n",
    "$$\n",
    "\\begin{align}\n",
    "A_{j}^\\text{stack}&\\approx\\frac{\\sum_\\text{1.0 keV}^\\text{2.3 keV}\\lambda_i^1}{\\sum_\\text{1.0 keV}^\\text{2.3 keV}A_{j}^1\\Delta E_{j}}\\cdot A_{j}^1+...+\\frac{\\sum_\\text{1.0 keV}^\\text{2.3 keV}\\lambda_i^N}{\\sum_\\text{1.0 keV}^\\text{2.3 keV}A_{j}^N\\Delta E_{j}}\\cdot A_{j}^N\\\\\n",
    "R_{ij}^\\text{stack}&\\approx\\frac{\\sum_\\text{1.0 keV}^\\text{2.3 keV}\\lambda_i^1}{\\sum_\\text{1.0 keV}^\\text{2.3 keV}A_{i}^1\\Delta E_{j}}\\cdot R_{ij}^1+...+\\frac{\\sum_\\text{1.0 keV}^\\text{2.3 keV}\\lambda_i^N}{\\sum_\\text{1.0 keV}^\\text{2.3 keV}A_{i}^N\\Delta E_{j}}\\cdot R_{ij}^N\n",
    "\\end{align}\n",
    "$$\n",
    "\n",
    "where `1.0 -- 2.3 keV` is the default integration range, and can be modified by `int_rng`.\n",
    "\n",
    "This ARF and RMF weighting method is specified as `SHP` (shape) in `arfscal_method`."
   ]
  },
  {
   "cell_type": "markdown",
   "metadata": {},
   "source": [
    "## **Step 2**: Run <span style=\"font-family: 'Courier New', Courier, monospace; font-weight: 700;\">Xstack</span>"
   ]
  },
  {
   "cell_type": "markdown",
   "metadata": {},
   "source": [
    "After initializing <span style=\"font-family: 'Courier New', Courier, monospace; font-weight: 700;\">Xstack</span>, call the `run` method to get the stacked results.\n",
    "\n",
    "The ARF weighting factor for each source, as well as the stacked RMF will be printed out when the stacking procedure is finished."
   ]
  },
  {
   "cell_type": "code",
   "execution_count": 33,
   "metadata": {},
   "outputs": [
    {
     "name": "stdout",
     "output_type": "stream",
     "text": [
      "#######################################################\n",
      "################ Welcome to Xstack! ###################\n",
      "#######################################################\n",
      "****************** Input Check ... ********************\n",
      "Number of sources: 200\n",
      "Redshift range: 0.300 -- 1.995\n",
      "NH range: 0.000 -- 0.000\n",
      "NH file: None\n",
      "ARF scaling method: SHP\n",
      "Flux calculation range: 1.000 -- 2.300 keV\n",
      "ARF Truncation energy: 0.200 keV\n",
      "RMF shifting method: NONPAR\n",
      "Number of CPUs used for shifting RMF: 50\n",
      "Number of background groups: 10\n",
      "Output PI spectrum (base)name: ./data/po/po.pi\n",
      "Output bkg PI spectrum (base)name: ./data/po/po_bkg.pi\n",
      "Output ARF (base)name: ./data/po/po.arf\n",
      "Output RMF (base)name: ./data/po/po.rmf\n",
      "****************** Shifting ... ********************\n"
     ]
    },
    {
     "name": "stderr",
     "output_type": "stream",
     "text": [
      "100%|██████████| 200/200 [00:11<00:00, 18.12it/s]\n"
     ]
    },
    {
     "name": "stdout",
     "output_type": "stream",
     "text": [
      "****************** Stacking ... ********************\n",
      "[ 6.01198777e-03  1.56073655e-03  4.60437518e-02  4.16273429e-03\n",
      "  4.93372610e-03  8.91240274e-03  7.09382190e-03  3.49026245e-03\n",
      "  4.97762871e-03  4.30487235e-03  1.33539882e-03  2.51526739e-03\n",
      "  2.85421763e-03  5.75058122e-04  6.73516413e-03  6.55129161e-04\n",
      "  7.67025402e-04  3.76717166e-03  1.44759415e-02  1.71314089e-03\n",
      "  7.11748918e-04  2.49558682e-04  1.20625274e-03  2.01655502e-03\n",
      "  5.12566902e-04  2.10042689e-03  1.03212686e-02  2.98237849e-02\n",
      "  1.13983987e-02  1.95814096e-03  7.62889833e-03  2.62848073e-03\n",
      "  6.11112179e-04  7.76479669e-04  8.55339294e-04  4.37691379e-03\n",
      "  6.73464097e-04  3.58787711e-04  1.35857859e-02  1.80557738e-03\n",
      "  2.91702281e-04  2.34625852e-03  3.34915146e-03  4.54108127e-04\n",
      "  1.65247512e-02  2.84202710e-03  1.45015517e-04  2.55985097e-03\n",
      "  4.88059050e-03  1.83036407e-02  4.58357475e-03  3.19809177e-03\n",
      "  3.38960118e-03  1.06140443e-02  2.40959301e-03  2.42592074e-02\n",
      "  1.36209838e-03  7.91027990e-03  7.33447439e-04  1.23341172e-03\n",
      "  1.43951561e-02  5.18237240e-03  1.65699443e-03  3.69407028e-03\n",
      "  2.70492703e-02  7.62136685e-04  1.23741001e-03  1.56186415e-03\n",
      "  8.11816344e-04  8.70366580e-04  5.19743045e-04  4.17022826e-03\n",
      "  8.96266431e-03  3.54875621e-04  6.61153816e-03  7.19819693e-03\n",
      "  7.62458343e-05  2.11852020e-03  1.15856146e-03  1.67498615e-03\n",
      "  1.06537100e-03  3.50686602e-03  1.42257216e-03  1.54948216e-03\n",
      "  1.40222368e-03  1.40837811e-03  2.02399981e-03  9.27271014e-04\n",
      "  1.47993778e-03  2.06101861e-03  7.82172465e-03  9.53221517e-04\n",
      "  2.12836871e-03  1.43163927e-03  1.01508724e-03  1.92680765e-03\n",
      "  9.25463902e-04  6.86982941e-04  5.68601453e-02  4.63744952e-04\n",
      "  5.24505729e-03  3.35113849e-03  9.71820075e-04  3.43823046e-03\n",
      "  1.28622490e-04  9.65794113e-04  1.16684939e-02  2.03366054e-04\n",
      "  5.91671033e-04 -1.92867636e-04  1.45801002e-02  1.73793113e-02\n",
      "  4.42319746e-04  7.24537215e-04  4.95896509e-03  1.08247209e-03\n",
      "  1.75814029e-03  4.47640336e-04  4.94547279e-04  1.61416264e-02\n",
      "  1.33211636e-02  1.86508799e-02  7.95499734e-03  1.75349781e-03\n",
      "  9.84490554e-04  5.25938243e-04  7.13724409e-04  5.39344457e-04\n",
      "  7.61260248e-03  4.51212188e-03  3.21354717e-04  1.82565401e-03\n",
      "  8.29208065e-04  1.55217879e-02  9.81153382e-04  1.43271854e-03\n",
      "  4.12351310e-04  5.21547680e-03  1.47195079e-03  1.05696197e-03\n",
      "  3.41554490e-03  1.76370046e-02  2.23075007e-02  1.46266113e-02\n",
      "  4.45448509e-03  9.91421051e-03  6.40860302e-03  1.29567958e-03\n",
      "  3.09926680e-03  5.87103198e-03  1.75132999e-02  1.08961543e-03\n",
      "  7.89096122e-04  2.22888273e-03  4.57337521e-03  5.57122240e-04\n",
      "  9.25198500e-03  9.17955184e-04  8.33946497e-04  2.86453974e-03\n",
      "  2.25131734e-03  5.15201846e-04  2.07572454e-03  8.16167340e-04\n",
      "  1.73600172e-02  2.11284405e-02  3.04675196e-02  1.85863506e-03\n",
      "  1.37019372e-03  2.10400649e-04  2.08435659e-03  3.95384878e-04\n",
      "  1.16647138e-03  4.40342745e-03  5.39435290e-04  9.38590464e-04\n",
      "  3.43898032e-03  5.36498256e-03  1.61769733e-02  1.05927425e-03\n",
      "  6.82498562e-04  4.70423008e-03  3.44466711e-03  4.48376224e-03\n",
      "  1.98835206e-03 -1.08951506e-05  9.00122647e-03  6.21878370e-04\n",
      "  1.08391769e-03  9.84618944e-05  2.03505284e-03  2.07493633e-02\n",
      "  3.77095855e-04  4.17198237e-04  1.32540987e-03  1.65617546e-03\n",
      "  1.25509171e-02  7.35337007e-03  1.20732574e-03 -6.23737491e-05]\n"
     ]
    },
    {
     "data": {
      "text/plain": [
       "(array([ 0.,  0.,  0., ..., 18., 21.,  0.]),\n",
       " array([0.        , 0.        , 0.        , ..., 4.24264069, 4.58257569,\n",
       "        0.        ]),\n",
       " array([ 0.        ,  0.        ,  0.        , ..., 19.13880999,\n",
       "        20.45624997,  8.09626755]),\n",
       " array([0.        , 0.        , 0.        , ..., 0.67708243, 0.69999846,\n",
       "        0.4403789 ]),\n",
       " array([ 0.        ,  0.        ,  0.        , ..., 36.48215648,\n",
       "        36.21316039, 35.94017919]),\n",
       " array([[1.        , 0.        , 0.        , ..., 0.        , 0.        ,\n",
       "         0.        ],\n",
       "        [1.        , 0.        , 0.        , ..., 0.        , 0.        ,\n",
       "         0.        ],\n",
       "        [1.        , 0.        , 0.        , ..., 0.        , 0.        ,\n",
       "         0.        ],\n",
       "        ...,\n",
       "        [0.        , 0.        , 0.        , ..., 0.13208912, 0.12464134,\n",
       "         0.05710428],\n",
       "        [0.        , 0.        , 0.        , ..., 0.14844961, 0.15231186,\n",
       "         0.07430585],\n",
       "        [0.        , 0.        , 0.        , ..., 0.15668061, 0.16733686,\n",
       "         0.08092267]]))"
      ]
     },
     "execution_count": 33,
     "metadata": {},
     "output_type": "execute_result"
    }
   ],
   "source": [
    "data_po.run()"
   ]
  },
  {
   "cell_type": "markdown",
   "metadata": {},
   "source": [
    "## **Step 3** (optional): Plot your results"
   ]
  },
  {
   "cell_type": "markdown",
   "metadata": {},
   "source": [
    "To have a view on the spectral shape of the stacked spectrum, you can plot the ARF-weighted spectrum (i.e. stacked photon counts divided by stacked ARF)."
   ]
  },
  {
   "cell_type": "code",
   "execution_count": 15,
   "metadata": {},
   "outputs": [],
   "source": [
    "def get_ratio(spec_dir,cat):\n",
    "    # X-ray\n",
    "    src_file = '%s/%s.pi'%(spec_dir,cat)\n",
    "    grp_file = '%s/%s_grp.pi'%(spec_dir,cat)\n",
    "    bkg_file = '%s/%s_bkg.pi'%(spec_dir,cat)\n",
    "    rmf_file = '%s/%s.rmf'%(spec_dir,cat)\n",
    "    arf_file = '%s/%s.arf'%(spec_dir,cat)\n",
    "\n",
    "    with fits.open(src_file) as hdu:\n",
    "        data = hdu[1].data\n",
    "    chan = data['CHANNEL']\n",
    "    pi = data['COUNTS']\n",
    "    pierr = data['STAT_ERR']\n",
    "    \n",
    "    with fits.open(bkg_file) as hdu:\n",
    "        data = hdu[1].data\n",
    "        head = hdu[1].header\n",
    "    chan = data['CHANNEL']\n",
    "    bkgpi = data['COUNTS']\n",
    "    bkgpierr = data['STAT_ERR']\n",
    "    expo = head['EXPOSURE']\n",
    "    \n",
    "    with fits.open(rmf_file) as hdu:\n",
    "        ebo = hdu[2].data\n",
    "    ene_lo = ebo['E_MIN']\n",
    "    ene_hi = ebo['E_MAX']\n",
    "    ene_ce = (ene_lo + ene_hi) / 2\n",
    "    ene_wd = ene_hi - ene_lo\n",
    "    \n",
    "    eene = np.logspace(np.log10(0.2),np.log10(ene_ce.max()),18)\n",
    "    eelo = eene[:-1]\n",
    "    eehi = eene[1:]\n",
    "    make_grpflg(src_file,grp_file,method='EDGE',rmf_file=rmf_file,eelo=eelo,eehi=eehi)\n",
    "    \n",
    "    with fits.open(grp_file) as hdu:\n",
    "        data = hdu[1].data\n",
    "    grpflg = data['GROUPING']\n",
    "    grpene_lo,grpene_hi,grppi,grppierr = rebin_pi(ene_lo,ene_hi,pi,pierr,grpflg)\n",
    "    grpene_lo,grpene_hi,grpbkgpi,grpbkgpierr = rebin_pi(ene_lo,ene_hi,bkgpi,bkgpierr,grpflg)\n",
    "    grpene_wd = grpene_hi - grpene_lo\n",
    "    grpene_ce = (grpene_lo + grpene_hi) / 2\n",
    "    idx4 = np.argmin(abs(grpene_ce-4))  # normalizing at 4 keV\n",
    "    Xgrpene_ce = grpene_ce\n",
    "    \n",
    "    with fits.open(arf_file) as hdu:\n",
    "        arf = hdu[1].data\n",
    "        arfscal = hdu['ARFSCAL'].data\n",
    "    arfene_lo = arf['ENERG_LO']\n",
    "    arfene_hi = arf['ENERG_HI']\n",
    "    arfene_ce = (arfene_lo + arfene_hi) / 2\n",
    "    arfene_wd = arfene_hi - arfene_lo\n",
    "    specresp = arf['SPECRESP']\n",
    "    specresp_ali = align_arf(ene_lo,ene_hi,arfene_lo,arfene_hi,specresp)\n",
    "    grpene_lo,grpene_hi,grpspecresp = rebin_arf(arfene_lo,arfene_hi,specresp,ene_lo,ene_hi,pi-bkgpi,grpflg)\n",
    "    Nsrc = len(arfscal)\n",
    "\n",
    "    subtract = grppi - grpbkgpi\n",
    "    subtract_err = np.sqrt(grppierr**2 + grpbkgpierr**2)\n",
    "    grpratio = subtract / grpspecresp / grpene_wd / expo\n",
    "    grpratio_err = subtract_err / grpspecresp / grpene_wd / expo\n",
    "    grpratio_norm = grpratio / grpratio[idx4]\n",
    "    grpratio_err_norm = grpratio_err / grpratio[idx4]\n",
    "    \n",
    "    subtract = pi - bkgpi\n",
    "    subtract_err = np.sqrt(pierr**2 + bkgpierr**2)\n",
    "    ratio = subtract / specresp_ali / ene_wd / expo\n",
    "    ratio_err = subtract_err / specresp_ali / ene_wd / expo\n",
    "    ratio_norm = ratio / grpratio[idx4]\n",
    "    ratio_err_norm = ratio_err / grpratio[idx4]\n",
    "\n",
    "    return ene_ce,ratio_norm,ratio_err_norm,Xgrpene_ce,grpratio_norm,grpratio_err_norm,Nsrc,grpratio[idx4]"
   ]
  },
  {
   "cell_type": "code",
   "execution_count": 35,
   "metadata": {},
   "outputs": [
    {
     "data": {
      "image/png": "[encoded data removed]",
      "text/plain": [
       "<Figure size 400x400 with 1 Axes>"
      ]
     },
     "metadata": {},
     "output_type": "display_data"
    }
   ],
   "source": [
    "fig, ax1 = plt.subplots(1,1,figsize=(4,4))\n",
    "spec_dir = './data/po'\n",
    "cat = 'po'\n",
    "warnings.filterwarnings('ignore',category=RuntimeWarning)\n",
    "\n",
    "ene_ce,ratio_norm,ratio_err_norm,grpene_ce,grpratio_norm,grpratio_err_norm,Nsrc,norm_fac = get_ratio(spec_dir,cat)\n",
    "\n",
    "ax1.errorbar(ene_ce,ratio_norm*ene_ce**2/16,yerr=(ratio_err_norm/2*ene_ce**2/16),\n",
    "             fmt='o',ms=0.3,lw=0.1,c='gray',alpha=0.5,zorder=-5,label='unbinned spec')\n",
    "ax1.errorbar(grpene_ce,grpratio_norm*grpene_ce**2/16,yerr=(grpratio_err_norm/2*grpene_ce**2/16),\n",
    "             fmt='o-',ms=3.5,lw=0.20,c='k',capsize=0.,elinewidth=1.0,\n",
    "             mec='k',mfc='#f9d7a7',alpha=0.8,zorder=1,label='binned spec')\n",
    "# below 0.3 keV: too few sources; above 8.0 keV: bkg dominated\n",
    "ax1.fill_betweenx(y=[0.5,10], x1=0.2, x2=0.3, color='orange', alpha=0.3, zorder=-1) \n",
    "ax1.fill_betweenx(y=[0.5,10], x1=8.0, x2=10.0, color='orange', alpha=0.3, zorder=-1) \n",
    "\n",
    "ax1.legend(loc='upper right',fontsize=12)\n",
    "ax1.set_xscale('log')\n",
    "ax1.set_xlim(0.2,10)\n",
    "x_ticks = [0.3, 0.5, 1.0, 2.3, 6.0, 8.0]\n",
    "ax1.set_xticks(x_ticks)\n",
    "ax1.set_xticklabels([str(x) for x in x_ticks])\n",
    "ax1.set_xlabel('Energy (keV)',fontsize=12)\n",
    "ax1.tick_params(\"x\",which=\"major\",\n",
    "                length=10,width = 1.0,size=5,labelsize=8,pad=3)\n",
    "ax1.tick_params(\"x\",which=\"minor\",\n",
    "                length=10,width = 1.0,size=5,labelsize=8,pad=3)\n",
    "ax1.set_ylim(0.5,10)\n",
    "ax1.set_yscale('log')\n",
    "y_ticks = [1,10]\n",
    "ax1.set_yticks(y_ticks)\n",
    "ax1.set_yticklabels([str(y) for y in y_ticks])\n",
    "ax1.set_ylabel(r'Normalized $EF_E$',fontsize=12)\n",
    "ax1.tick_params(\"y\",which=\"major\",\n",
    "                length=10,width = 1.0,size=5,labelsize=8)\n",
    "ax1.tick_params(\"y\",which=\"minor\",\n",
    "                length=10,width = 1.0,size=5,labelsize=8)"
   ]
  },
  {
   "cell_type": "markdown",
   "metadata": {},
   "source": [
    "## **Step 4** (optional): Spectral fitting on other platform, e.g. XSPEC ... "
   ]
  },
  {
   "cell_type": "markdown",
   "metadata": {},
   "source": [
    "# **2. Other examples**\n",
    "***Try for yourself!***"
   ]
  },
  {
   "cell_type": "markdown",
   "metadata": {},
   "source": [
    "## **e.g.2**: absorbed powerlaw"
   ]
  },
  {
   "cell_type": "markdown",
   "metadata": {},
   "source": [
    "The Galactic absorption is often an issue when studying the X-ray spectra of extragalactic sources (e.g. AGNs), suppressing the soft X-ray flux significantly.\n",
    "\n",
    "<span style=\"font-family: 'Courier New', Courier, monospace; font-weight: 700;\">Xstack</span> allows for correction of Galactic absorption, in order to study the intrinsic spectral shape unaffected by the Galactic medium. This is essentially done by multiplying the observed-frame ARF (effective area vs. input energy) with Galactic absorption profile (absorption factor vs. input energy), as an approach to account for the expected loss of effective area due to the absorption effect. To activate this correction, you will need to specify the NH value of each spectrum (`nh_lst`), as well as the sample Galactic absorption profile (`nh_file`)."
   ]
  },
  {
   "cell_type": "code",
   "execution_count": 13,
   "metadata": {},
   "outputs": [
    {
     "name": "stdout",
     "output_type": "stream",
     "text": [
      "#######################################################\n",
      "################ Welcome to Xstack! ###################\n",
      "#######################################################\n",
      "****************** Input Check ... ********************\n",
      "Number of sources: 200\n",
      "Redshift range: 0.300 -- 1.995\n",
      "NH range: 3112857825192105984.000 -- 989340056166638157824.000\n",
      "NH file: /data/chensj/.conda/envs/Xstack/lib/python3.11/site-packages/Xstack/tbabs_1e20.txt\n",
      "ARF scaling method: SHP\n",
      "Flux calculation range: 1.000 -- 2.300 keV\n",
      "ARF Truncation energy: 0.200 keV\n",
      "RMF shifting method: NONPAR\n",
      "Number of CPUs used for shifting RMF: 50\n",
      "Number of background groups: 10\n",
      "Output PI spectrum (base)name: ./data/abspo/abspo.pi\n",
      "Output bkg PI spectrum (base)name: ./data/abspo/abspo_bkg.pi\n",
      "Output ARF (base)name: ./data/abspo/abspo.arf\n",
      "Output RMF (base)name: ./data/abspo/abspo.rmf\n",
      "****************** Shifting ... ********************\n"
     ]
    },
    {
     "name": "stderr",
     "output_type": "stream",
     "text": [
      "100%|██████████| 200/200 [00:10<00:00, 18.23it/s]\n"
     ]
    },
    {
     "name": "stdout",
     "output_type": "stream",
     "text": [
      "****************** Stacking ... ********************\n",
      "[ 6.73550408e-03  1.62014088e-03  4.72842755e-02  4.40713567e-03\n",
      "  4.90649315e-03  8.19551516e-03  6.25441255e-03  3.16084421e-03\n",
      "  5.71427799e-03  4.46080414e-03  1.45529256e-03  2.88552311e-03\n",
      "  2.23475102e-03  4.33227170e-04  6.85084534e-03  1.17691330e-04\n",
      "  6.70693784e-04  3.51238278e-03  1.48400437e-02  1.88851191e-03\n",
      "  8.00736169e-04  2.73932860e-04  1.07285558e-03  1.94329791e-03\n",
      "  5.48887892e-04  2.12901312e-03  1.05603684e-02  2.87956022e-02\n",
      "  1.10996173e-02  1.68654435e-03  6.93750166e-03  2.89219542e-03\n",
      " -1.00382497e-04  1.02075647e-03  7.79819646e-04  4.39094719e-03\n",
      "  1.09496665e-03  4.08859907e-04  1.39692561e-02  1.87274750e-03\n",
      "  3.83981715e-04  2.06071431e-03  3.32826711e-03  3.66117940e-04\n",
      "  1.66364646e-02  2.90740099e-03  1.72374050e-04  2.67791942e-03\n",
      "  4.63015190e-03  1.84093173e-02  4.83763382e-03  3.30344373e-03\n",
      "  3.36125198e-03  1.12865062e-02  2.70232020e-03  2.47204703e-02\n",
      "  1.02856985e-03  8.22787049e-03  8.11404384e-04  1.51405748e-03\n",
      "  1.41314677e-02  4.40269448e-03  1.59952186e-03  3.23175934e-03\n",
      "  2.70562602e-02  8.61553667e-04  1.86809611e-03  1.76630541e-03\n",
      "  1.07108183e-03  8.99238566e-04 -8.78791392e-05  3.73040035e-03\n",
      "  8.79201311e-03  4.19977920e-04  6.55830386e-03  7.54473109e-03\n",
      " -1.78178724e-04  2.22231434e-03  1.16205263e-03  1.52563341e-03\n",
      "  8.60880297e-04  3.51929449e-03  2.36240004e-03  1.42658673e-03\n",
      "  1.58468408e-03  1.53280020e-03  2.57938653e-03  1.52289275e-04\n",
      "  1.71720860e-03  1.72614203e-03  8.00471947e-03  9.41107826e-04\n",
      "  1.45106407e-03  1.33615684e-03  1.09054683e-03  1.75069164e-03\n",
      "  7.00701028e-04  7.12384696e-04  5.59732763e-02  6.09805340e-04\n",
      "  5.54367567e-03  2.73031653e-03  6.02858593e-04  3.37809221e-03\n",
      " -1.34343281e-04  7.51395648e-04  1.08241679e-02  4.52415516e-05\n",
      "  7.01659951e-04 -6.46246997e-04  1.47278999e-02  1.71277454e-02\n",
      " -1.95663238e-05  8.49309542e-04  4.81942028e-03  1.51823548e-03\n",
      "  1.33520397e-03  6.38325962e-04  8.05420920e-04  1.64004744e-02\n",
      "  1.34636514e-02  1.87226794e-02  8.07716436e-03  1.37597223e-03\n",
      "  9.01668080e-04  5.43340879e-04  7.42606161e-04  4.65901699e-04\n",
      "  8.03320234e-03  5.35006456e-03  2.59921744e-05  1.66688702e-03\n",
      "  8.48938786e-04  1.57809772e-02  5.45116460e-04  1.54995709e-03\n",
      "  5.41488859e-04  5.79049442e-03  1.61281013e-03  1.08624450e-03\n",
      "  2.78676074e-03  1.82920604e-02  2.23632464e-02  1.49065684e-02\n",
      "  4.56321011e-03  9.74711447e-03  6.11005015e-03  1.27506887e-03\n",
      "  3.29104411e-03  5.02312571e-03  1.74410042e-02  9.64453263e-04\n",
      "  9.84781766e-04  2.51127846e-03  4.01842173e-03  7.16303126e-04\n",
      "  9.56178069e-03  7.77152377e-04  7.52270999e-04  2.96985950e-03\n",
      "  2.21634729e-03  5.83689714e-04  2.71067882e-03  9.05888501e-04\n",
      "  1.66452615e-02  2.17895400e-02  3.17631127e-02  1.84353421e-03\n",
      "  1.23226032e-03 -2.38819459e-04  1.97636668e-03  3.72918690e-04\n",
      "  1.34036084e-03  3.83429052e-03  4.64362091e-04  7.74919270e-04\n",
      "  3.33451580e-03  5.87749547e-03  1.68066700e-02  1.27085856e-03\n",
      "  7.56720327e-04  5.17865063e-03  4.01757494e-03  4.59851608e-03\n",
      "  2.20806704e-03 -4.06572711e-04  8.47504699e-03  6.74317717e-04\n",
      "  1.16413227e-03 -6.74029142e-05  2.02511371e-03  2.07920821e-02\n",
      "  5.90546805e-04  7.29894786e-04  1.30853189e-03  1.88182734e-03\n",
      "  1.24616510e-02  6.87363487e-03  1.65668622e-03 -3.84873129e-04]\n"
     ]
    },
    {
     "name": "stderr",
     "output_type": "stream",
     "text": [
      "/data/chensj/.conda/envs/Xstack/lib/python3.11/site-packages/Xstack/shift_rmf.py:231: RuntimeWarning: invalid value encountered in divide\n",
      "  sum_prob /= np.sum(sum_prob,axis=1)[:,np.newaxis] # normalize\n",
      "/data/chensj/.conda/envs/Xstack/lib/python3.11/site-packages/Xstack/shift_rmf.py:235: RuntimeWarning: invalid value encountered in divide\n",
      "  sum_prob /= np.sum(sum_prob,axis=1)[:,np.newaxis] # renormalize\n"
     ]
    },
    {
     "data": {
      "text/plain": [
       "(array([ 0.,  0.,  0., ..., 19., 14.,  0.]),\n",
       " array([0.        , 0.        , 0.        , ..., 4.35889894, 3.74165739,\n",
       "        0.        ]),\n",
       " array([ 0.        ,  0.        ,  0.        , ..., 20.12090161,\n",
       "        20.76764488,  7.68905883]),\n",
       " array([0.        , 0.        , 0.        , ..., 0.69423706, 0.7053062 ,\n",
       "        0.42916141]),\n",
       " array([ 0.        ,  0.        ,  0.        , ..., 36.04778569,\n",
       "        35.78008043, 35.50877811]),\n",
       " array([[1.        , 0.        , 0.        , ..., 0.        , 0.        ,\n",
       "         0.        ],\n",
       "        [1.        , 0.        , 0.        , ..., 0.        , 0.        ,\n",
       "         0.        ],\n",
       "        [1.        , 0.        , 0.        , ..., 0.        , 0.        ,\n",
       "         0.        ],\n",
       "        ...,\n",
       "        [0.        , 0.        , 0.        , ..., 0.13211279, 0.12466058,\n",
       "         0.05718744],\n",
       "        [0.        , 0.        , 0.        , ..., 0.1484805 , 0.15234494,\n",
       "         0.07442335],\n",
       "        [0.        , 0.        , 0.        , ..., 0.15679409, 0.16746465,\n",
       "         0.08108333]]))"
      ]
     },
     "execution_count": 13,
     "metadata": {},
     "output_type": "execute_result"
    }
   ],
   "source": [
    "# fetch some basic data (they have already been generated)\n",
    "pifile_lst = []\n",
    "bkgpifile_lst = []\n",
    "rmffile_lst = []\n",
    "arffile_lst = []\n",
    "z_lst = []\n",
    "nh_lst = []\n",
    "\n",
    "for i in range(200):\n",
    "    pifile = './data/abspo/abspo_spec/%05d_abspo.pi'%i\n",
    "    with fits.open(pifile) as hdu:\n",
    "        head = hdu[1].header\n",
    "    path = os.path.dirname(pifile)\n",
    "    bkgpifile = os.path.join(path,head['BACKFILE'])\n",
    "    rmffile = os.path.join(path,head['RESPFILE'])\n",
    "    arffile = os.path.join(path,head['ANCRFILE'])\n",
    "    zfile = os.path.join(path,head['ZFILE'])        # file storing redshift\n",
    "    nhfile = os.path.join(path,head['NHFILE'])        # file storing NH\n",
    "    with open(zfile,'r') as f:\n",
    "        z = f.readlines()\n",
    "    z = float(z[0].rstrip())\n",
    "    with open(nhfile,'r') as f:\n",
    "        nh = f.readlines()\n",
    "    nh = float(nh[0].rstrip())\n",
    "\n",
    "    pifile_lst.append(pifile)\n",
    "    bkgpifile_lst.append(bkgpifile)\n",
    "    rmffile_lst.append(rmffile)\n",
    "    arffile_lst.append(arffile)\n",
    "    z_lst.append(z)\n",
    "    nh_lst.append(nh)\n",
    "\n",
    "# run Xstack\n",
    "XstackRunner(\n",
    "    pifile_lst=pifile_lst,                          # PI file list\n",
    "    arffile_lst=arffile_lst,                        # ARF file list\n",
    "    rmffile_lst=rmffile_lst,                        # RMF file list\n",
    "    z_lst=z_lst,                                    # redshift list\n",
    "    bkgpifile_lst=bkgpifile_lst,                    # bkg PI file list\n",
    "    nh_lst=nh_lst,                                  # nh list\n",
    "    srcid_lst=np.arange(200),                       # source ID list (can be arbitary)\n",
    "    arfscal_method='SHP',                           # method to calculate ARF weighting factor for each source (recommended: SHP)\n",
    "    int_rng=(1.0,2.3),                              # if `arfscal_method`=`SHP`, choose the range to calculate flux\n",
    "    rmfsft_method='NONPAR',                         # method to shift RMF\n",
    "    sample_rmf=None,                                # the sample RMF to read input/output energy bin edge (if not specified, the first RMF in `rmffile_lst` will be used)\n",
    "    sample_arf=None,                                # the sample ARF to read input/output energy bin edge (if not specified, the first RMF in `rmffile_lst` will be used)\n",
    "    nh_file=Xstack.default_nh_file,                 # the Galactic absorption profile (absorption factor vs. energy)\n",
    "    Nbkggrp=10,                                     # the number of background groups to calculate uncertainty of background\n",
    "    ene_trc=0.2,                                    # energy below which the ARF is manually truncated (e.g., 0.2 keV for eROSITA)\n",
    "    rm_ene_dsp=True,                                # whether or not to remove the energy dispersion map\n",
    "    usecpu=50,                                      # number of cpus used for RMF shifting\n",
    "    o_pi_name='./data/abspo/abspo.pi',              # name of output PI spectrum file\n",
    "    o_bkgpi_name='./data/abspo/abspo_bkg.pi',       # name of output background PI spectrum file\n",
    "    o_arf_name='./data/abspo/abspo.arf',            # name of output ARF file\n",
    "    o_rmf_name='./data/abspo/abspo.rmf',            # name of output RMF file\n",
    "    fene_name='./data/abspo/abspo.fene',            # name of output fenergy file\n",
    ").run()"
   ]
  },
  {
   "cell_type": "code",
   "execution_count": 16,
   "metadata": {},
   "outputs": [
    {
     "data": {
      "image/png": "[encoded data removed]",
      "text/plain": [
       "<Figure size 400x400 with 1 Axes>"
      ]
     },
     "metadata": {},
     "output_type": "display_data"
    }
   ],
   "source": [
    "fig, ax1 = plt.subplots(1,1,figsize=(4,4))\n",
    "spec_dir = './data/abspo'\n",
    "cat = 'abspo'\n",
    "warnings.filterwarnings('ignore',category=RuntimeWarning)\n",
    "\n",
    "ene_ce,ratio_norm,ratio_err_norm,grpene_ce,grpratio_norm,grpratio_err_norm,Nsrc,norm_fac = get_ratio(spec_dir,cat)\n",
    "\n",
    "ax1.errorbar(ene_ce,ratio_norm*ene_ce**2/16,yerr=(ratio_err_norm/2*ene_ce**2/16),\n",
    "             fmt='o',ms=0.3,lw=0.1,c='gray',alpha=0.5,zorder=-5,label='unbinned spec')\n",
    "ax1.errorbar(grpene_ce,grpratio_norm*grpene_ce**2/16,yerr=(grpratio_err_norm/2*grpene_ce**2/16),\n",
    "             fmt='o-',ms=3.5,lw=0.20,c='k',capsize=0.,elinewidth=1.0,\n",
    "             mec='k',mfc='#f9d7a7',alpha=0.8,zorder=1,label='binned spec')\n",
    "# below 0.3 keV: too few sources; above 8.0 keV: bkg dominated\n",
    "ax1.fill_betweenx(y=[0.5,10], x1=0.2, x2=0.3, color='orange', alpha=0.3, zorder=-1) \n",
    "ax1.fill_betweenx(y=[0.5,10], x1=8.0, x2=10.0, color='orange', alpha=0.3, zorder=-1) \n",
    "\n",
    "ax1.legend(loc='upper right',fontsize=12)\n",
    "ax1.set_xscale('log')\n",
    "ax1.set_xlim(0.2,10)\n",
    "x_ticks = [0.3, 0.5, 1.0, 2.3, 6.0, 8.0]\n",
    "ax1.set_xticks(x_ticks)\n",
    "ax1.set_xticklabels([str(x) for x in x_ticks])\n",
    "ax1.set_xlabel('Energy (keV)',fontsize=12)\n",
    "ax1.tick_params(\"x\",which=\"major\",\n",
    "                length=10,width = 1.0,size=5,labelsize=8,pad=3)\n",
    "ax1.tick_params(\"x\",which=\"minor\",\n",
    "                length=10,width = 1.0,size=5,labelsize=8,pad=3)\n",
    "ax1.set_ylim(0.5,10)\n",
    "ax1.set_yscale('log')\n",
    "y_ticks = [1,10]\n",
    "ax1.set_yticks(y_ticks)\n",
    "ax1.set_yticklabels([str(y) for y in y_ticks])\n",
    "ax1.set_ylabel(r'Normalized $EF_E$',fontsize=12)\n",
    "ax1.tick_params(\"y\",which=\"major\",\n",
    "                length=10,width = 1.0,size=5,labelsize=8)\n",
    "ax1.tick_params(\"y\",which=\"minor\",\n",
    "                length=10,width = 1.0,size=5,labelsize=8)"
   ]
  },
  {
   "cell_type": "markdown",
   "metadata": {},
   "source": [
    "## **e.g.3**: primary continuum (powerlaw) + soft excess (bbody)"
   ]
  },
  {
   "cell_type": "code",
   "execution_count": 18,
   "metadata": {},
   "outputs": [
    {
     "name": "stdout",
     "output_type": "stream",
     "text": [
      "#######################################################\n",
      "################ Welcome to Xstack! ###################\n",
      "#######################################################\n",
      "****************** Input Check ... ********************\n",
      "Number of sources: 200\n",
      "Redshift range: 0.300 -- 1.995\n",
      "NH range: 0.000 -- 0.000\n",
      "NH file: None\n",
      "ARF scaling method: SHP\n",
      "Flux calculation range: 1.000 -- 2.300 keV\n",
      "ARF Truncation energy: 0.200 keV\n",
      "RMF shifting method: NONPAR\n",
      "Number of CPUs used for shifting RMF: 50\n",
      "Number of background groups: 10\n",
      "Output PI spectrum (base)name: ./data/pobb/pobb.pi\n",
      "Output bkg PI spectrum (base)name: ./data/pobb/pobb_bkg.pi\n",
      "Output ARF (base)name: ./data/pobb/pobb.arf\n",
      "Output RMF (base)name: ./data/pobb/pobb.rmf\n",
      "****************** Shifting ... ********************\n"
     ]
    },
    {
     "name": "stderr",
     "output_type": "stream",
     "text": [
      "100%|██████████| 200/200 [00:10<00:00, 18.38it/s]\n"
     ]
    },
    {
     "name": "stdout",
     "output_type": "stream",
     "text": [
      "****************** Stacking ... ********************\n",
      "[5.59058393e-03 1.19189975e-03 5.02961350e-02 3.92098884e-03\n",
      " 4.85591041e-03 8.03922480e-03 6.20494851e-03 2.83715730e-03\n",
      " 5.83527181e-03 4.03695040e-03 1.47105596e-03 2.82964093e-03\n",
      " 2.20014035e-03 2.51917332e-04 5.65762598e-03 9.34507627e-04\n",
      " 8.30848130e-04 4.02035140e-03 1.30631844e-02 1.61418824e-03\n",
      " 5.69202531e-04 1.69972677e-04 1.25704561e-03 2.39422979e-03\n",
      " 5.07718125e-04 2.18594738e-03 1.11718965e-02 2.97566286e-02\n",
      " 1.17644795e-02 1.63931596e-03 7.83363507e-03 2.76025973e-03\n",
      " 1.04653931e-03 1.05768675e-03 8.83128979e-04 4.14329316e-03\n",
      " 4.53482415e-04 9.87222064e-04 1.32962766e-02 1.85285865e-03\n",
      " 2.71047749e-04 2.47625541e-03 3.83740928e-03 4.51070075e-04\n",
      " 1.52470619e-02 2.19046438e-03 1.42691779e-04 2.33073746e-03\n",
      " 4.86340363e-03 1.85962083e-02 5.06153363e-03 2.98204716e-03\n",
      " 3.14673857e-03 9.55525413e-03 2.19866100e-03 2.41618092e-02\n",
      " 1.35422093e-03 8.11169822e-03 8.96211740e-04 1.22719556e-03\n",
      " 1.48488448e-02 4.47337084e-03 1.62548910e-03 3.80588004e-03\n",
      " 2.64651350e-02 1.25585300e-03 1.47189941e-03 1.52055688e-03\n",
      " 6.30483863e-04 8.68467096e-04 8.65855929e-04 4.40078192e-03\n",
      " 8.43594298e-03 6.44394616e-04 6.50093697e-03 8.72920685e-03\n",
      " 1.94273281e-04 1.74200019e-03 9.13597956e-04 2.11009773e-03\n",
      " 1.22147625e-03 3.20796246e-03 1.51169931e-03 1.53678997e-03\n",
      " 1.79804112e-03 1.08708947e-03 1.79547723e-03 1.20039912e-03\n",
      " 1.60054787e-03 1.75478987e-03 7.78564191e-03 1.12379266e-03\n",
      " 2.32299035e-03 1.50951170e-03 1.29812481e-03 1.56247846e-03\n",
      " 7.08666117e-04 5.25021800e-04 5.28006286e-02 7.32293842e-04\n",
      " 6.39842980e-03 4.13180288e-03 1.20669360e-03 3.00624568e-03\n",
      " 1.77178420e-04 9.88796680e-04 1.10164261e-02 3.88532289e-04\n",
      " 1.12348209e-03 8.39954059e-05 1.38820857e-02 1.68326399e-02\n",
      " 3.20167355e-04 5.41298422e-04 5.29439416e-03 9.35782859e-04\n",
      " 1.65802178e-03 4.89053228e-04 6.61346947e-04 1.44276702e-02\n",
      " 1.24480965e-02 1.82123156e-02 7.47122567e-03 1.60721718e-03\n",
      " 9.22924312e-04 1.46127202e-03 5.42996073e-04 1.08620600e-03\n",
      " 8.02968738e-03 4.63089217e-03 4.94569799e-04 1.47886387e-03\n",
      " 6.79672258e-04 1.58271753e-02 1.36662646e-03 1.26216102e-03\n",
      " 5.28568183e-04 5.83849617e-03 1.64530529e-03 9.61261587e-04\n",
      " 3.75034358e-03 1.74647154e-02 2.26254434e-02 1.61402758e-02\n",
      " 4.67588289e-03 1.10861968e-02 6.94091851e-03 1.15278149e-03\n",
      " 2.34067201e-03 6.15232300e-03 1.88965049e-02 1.08373966e-03\n",
      " 7.56418692e-04 2.93216330e-03 5.14654392e-03 7.32201629e-04\n",
      " 8.92978651e-03 1.08824923e-03 1.06329229e-03 2.78247146e-03\n",
      " 2.29201023e-03 4.34945537e-04 2.95026139e-03 8.09294354e-04\n",
      " 1.68174021e-02 1.98328106e-02 3.12248106e-02 1.84717635e-03\n",
      " 1.43864536e-03 5.70504037e-04 1.85434391e-03 1.40426352e-04\n",
      " 9.16498517e-04 4.06757349e-03 6.41297503e-04 6.91526687e-04\n",
      " 2.70592865e-03 5.26123650e-03 1.52515969e-02 1.29256836e-03\n",
      " 6.35663033e-04 5.52635813e-03 2.96812781e-03 5.11132345e-03\n",
      " 1.90578589e-03 1.69688662e-04 8.67432866e-03 8.04205402e-04\n",
      " 7.58817702e-04 2.87462068e-04 1.78959425e-03 2.02106530e-02\n",
      " 3.93732480e-04 4.32767253e-04 1.20736997e-03 1.63091859e-03\n",
      " 1.26032217e-02 7.20920581e-03 1.19427313e-03 5.43582775e-04]\n"
     ]
    },
    {
     "data": {
      "text/plain": [
       "(array([ 0.,  0.,  0., ..., 16., 17.,  0.]),\n",
       " array([0.        , 0.        , 0.        , ..., 4.        , 4.12310563,\n",
       "        0.        ]),\n",
       " array([ 0.        ,  0.        ,  0.        , ..., 20.38438961,\n",
       "        21.10299324,  8.55138319]),\n",
       " array([0.        , 0.        , 0.        , ..., 0.69876788, 0.71097791,\n",
       "        0.45258719]),\n",
       " array([ 0.        ,  0.        ,  0.        , ..., 37.03131597,\n",
       "        36.76016398, 36.48546947]),\n",
       " array([[1.        , 0.        , 0.        , ..., 0.        , 0.        ,\n",
       "         0.        ],\n",
       "        [1.        , 0.        , 0.        , ..., 0.        , 0.        ,\n",
       "         0.        ],\n",
       "        [1.        , 0.        , 0.        , ..., 0.        , 0.        ,\n",
       "         0.        ],\n",
       "        ...,\n",
       "        [0.        , 0.        , 0.        , ..., 0.13200807, 0.12458226,\n",
       "         0.05704477],\n",
       "        [0.        , 0.        , 0.        , ..., 0.14833979, 0.15219463,\n",
       "         0.0742333 ],\n",
       "        [0.        , 0.        , 0.        , ..., 0.15650792, 0.16714531,\n",
       "         0.08081666]]))"
      ]
     },
     "execution_count": 18,
     "metadata": {},
     "output_type": "execute_result"
    }
   ],
   "source": [
    "# fetch some basic data (they have already been generated)\n",
    "pifile_lst = []\n",
    "bkgpifile_lst = []\n",
    "rmffile_lst = []\n",
    "arffile_lst = []\n",
    "z_lst = []\n",
    "nh_lst = []\n",
    "\n",
    "for i in range(200):\n",
    "    pifile = './data/pobb/pobb_spec/%05d_pobb.pi'%i\n",
    "    with fits.open(pifile) as hdu:\n",
    "        head = hdu[1].header\n",
    "    path = os.path.dirname(pifile)\n",
    "    bkgpifile = os.path.join(path,head['BACKFILE'])\n",
    "    rmffile = os.path.join(path,head['RESPFILE'])\n",
    "    arffile = os.path.join(path,head['ANCRFILE'])\n",
    "    zfile = os.path.join(path,head['ZFILE'])        # file storing redshift\n",
    "    with open(zfile,'r') as f:\n",
    "        z = f.readlines()\n",
    "    z = float(z[0].rstrip())\n",
    "\n",
    "    pifile_lst.append(pifile)\n",
    "    bkgpifile_lst.append(bkgpifile)\n",
    "    rmffile_lst.append(rmffile)\n",
    "    arffile_lst.append(arffile)\n",
    "    z_lst.append(z)\n",
    "\n",
    "# run Xstack\n",
    "XstackRunner(\n",
    "    pifile_lst=pifile_lst,                          # PI file list\n",
    "    arffile_lst=arffile_lst,                        # ARF file list\n",
    "    rmffile_lst=rmffile_lst,                        # RMF file list\n",
    "    z_lst=z_lst,                                    # redshift list\n",
    "    bkgpifile_lst=bkgpifile_lst,                    # bkg PI file list\n",
    "    srcid_lst=np.arange(200),                       # source ID list (can be arbitary)\n",
    "    arfscal_method='SHP',                           # method to calculate ARF weighting factor for each source (recommended: SHP)\n",
    "    int_rng=(1.0,2.3),                              # if `arfscal_method`=`SHP`, choose the range to calculate flux\n",
    "    rmfsft_method='NONPAR',                         # method to shift RMF\n",
    "    sample_rmf=None,                                # the sample RMF to read input/output energy bin edge (if not specified, the first RMF in `rmffile_lst` will be used)\n",
    "    sample_arf=None,                                # the sample ARF to read input/output energy bin edge (if not specified, the first RMF in `rmffile_lst` will be used)\n",
    "    Nbkggrp=10,                                     # the number of background groups to calculate uncertainty of background\n",
    "    ene_trc=0.2,                                    # energy below which the ARF is manually truncated (e.g., 0.2 keV for eROSITA)\n",
    "    rm_ene_dsp=True,                                # whether or not to remove the energy dispersion map\n",
    "    usecpu=50,                                      # number of cpus used for RMF shifting\n",
    "    o_pi_name='./data/pobb/pobb.pi',              # name of output PI spectrum file\n",
    "    o_bkgpi_name='./data/pobb/pobb_bkg.pi',       # name of output background PI spectrum file\n",
    "    o_arf_name='./data/pobb/pobb.arf',            # name of output ARF file\n",
    "    o_rmf_name='./data/pobb/pobb.rmf',            # name of output RMF file\n",
    "    fene_name='./data/pobb/pobb.fene',            # name of output fenergy file\n",
    ").run()"
   ]
  },
  {
   "cell_type": "code",
   "execution_count": 19,
   "metadata": {},
   "outputs": [
    {
     "data": {
      "image/png": "[encoded data removed]",
      "text/plain": [
       "<Figure size 400x400 with 1 Axes>"
      ]
     },
     "metadata": {},
     "output_type": "display_data"
    }
   ],
   "source": [
    "fig, ax1 = plt.subplots(1,1,figsize=(4,4))\n",
    "spec_dir = './data/pobb'\n",
    "cat = 'pobb'\n",
    "warnings.filterwarnings('ignore',category=RuntimeWarning)\n",
    "\n",
    "ene_ce,ratio_norm,ratio_err_norm,grpene_ce,grpratio_norm,grpratio_err_norm,Nsrc,norm_fac = get_ratio(spec_dir,cat)\n",
    "\n",
    "ax1.errorbar(ene_ce,ratio_norm*ene_ce**2/16,yerr=(ratio_err_norm/2*ene_ce**2/16),\n",
    "             fmt='o',ms=0.3,lw=0.1,c='gray',alpha=0.5,zorder=-5,label='unbinned spec')\n",
    "ax1.errorbar(grpene_ce,grpratio_norm*grpene_ce**2/16,yerr=(grpratio_err_norm/2*grpene_ce**2/16),\n",
    "             fmt='o-',ms=3.5,lw=0.20,c='k',capsize=0.,elinewidth=1.0,\n",
    "             mec='k',mfc='#f9d7a7',alpha=0.8,zorder=1,label='binned spec')\n",
    "# below 0.3 keV: too few sources; above 8.0 keV: bkg dominated\n",
    "ax1.fill_betweenx(y=[0.5,10], x1=0.2, x2=0.3, color='orange', alpha=0.3, zorder=-1) \n",
    "ax1.fill_betweenx(y=[0.5,10], x1=8.0, x2=10.0, color='orange', alpha=0.3, zorder=-1) \n",
    "\n",
    "ax1.legend(loc='upper right',fontsize=12)\n",
    "ax1.set_xscale('log')\n",
    "ax1.set_xlim(0.2,10)\n",
    "x_ticks = [0.3, 0.5, 1.0, 2.3, 6.0, 8.0]\n",
    "ax1.set_xticks(x_ticks)\n",
    "ax1.set_xticklabels([str(x) for x in x_ticks])\n",
    "ax1.set_xlabel('Energy (keV)',fontsize=12)\n",
    "ax1.tick_params(\"x\",which=\"major\",\n",
    "                length=10,width = 1.0,size=5,labelsize=8,pad=3)\n",
    "ax1.tick_params(\"x\",which=\"minor\",\n",
    "                length=10,width = 1.0,size=5,labelsize=8,pad=3)\n",
    "ax1.set_ylim(0.5,10)\n",
    "ax1.set_yscale('log')\n",
    "y_ticks = [1,10]\n",
    "ax1.set_yticks(y_ticks)\n",
    "ax1.set_yticklabels([str(y) for y in y_ticks])\n",
    "ax1.set_ylabel(r'Normalized $EF_E$',fontsize=12)\n",
    "ax1.tick_params(\"y\",which=\"major\",\n",
    "                length=10,width = 1.0,size=5,labelsize=8)\n",
    "ax1.tick_params(\"y\",which=\"minor\",\n",
    "                length=10,width = 1.0,size=5,labelsize=8)"
   ]
  },
  {
   "cell_type": "markdown",
   "metadata": {},
   "source": [
    "## **e.g.4**: absorbed primary continuum (powerlaw) + soft excess (bbody)"
   ]
  },
  {
   "cell_type": "code",
   "execution_count": 21,
   "metadata": {},
   "outputs": [
    {
     "name": "stdout",
     "output_type": "stream",
     "text": [
      "#######################################################\n",
      "################ Welcome to Xstack! ###################\n",
      "#######################################################\n",
      "****************** Input Check ... ********************\n",
      "Number of sources: 200\n",
      "Redshift range: 0.300 -- 1.995\n",
      "NH range: 3112857825192105984.000 -- 989340056166638157824.000\n",
      "NH file: /data/chensj/.conda/envs/Xstack/lib/python3.11/site-packages/Xstack/tbabs_1e20.txt\n",
      "ARF scaling method: SHP\n",
      "Flux calculation range: 1.000 -- 2.300 keV\n",
      "ARF Truncation energy: 0.200 keV\n",
      "RMF shifting method: NONPAR\n",
      "Number of CPUs used for shifting RMF: 50\n",
      "Number of background groups: 10\n",
      "Output PI spectrum (base)name: ./data/abspobb/abspobb.pi\n",
      "Output bkg PI spectrum (base)name: ./data/abspobb/abspobb_bkg.pi\n",
      "Output ARF (base)name: ./data/abspobb/abspobb.arf\n",
      "Output RMF (base)name: ./data/abspobb/abspobb.rmf\n",
      "****************** Shifting ... ********************\n"
     ]
    },
    {
     "name": "stderr",
     "output_type": "stream",
     "text": [
      "100%|██████████| 200/200 [00:05<00:00, 35.13it/s]\n"
     ]
    },
    {
     "name": "stdout",
     "output_type": "stream",
     "text": [
      "****************** Stacking ... ********************\n",
      "[ 5.82270873e-03  1.27591183e-03  5.15608199e-02  4.02426275e-03\n",
      "  4.78723874e-03  8.10622561e-03  6.83804011e-03  3.37612804e-03\n",
      "  6.27026864e-03  4.14004130e-03  1.59703896e-03  2.86291331e-03\n",
      "  2.25299905e-03  3.06052932e-04  5.69144361e-03  5.21362669e-04\n",
      "  8.18621440e-04  3.98834046e-03  1.37466880e-02  1.69463388e-03\n",
      "  4.76849223e-04  2.22449107e-04  1.38475141e-03  2.36171589e-03\n",
      "  5.14120384e-04  2.43025544e-03  1.08966522e-02  2.83050175e-02\n",
      "  1.13505298e-02  1.77332730e-03  8.01213870e-03  2.60301782e-03\n",
      "  4.08779623e-04  1.08849360e-03  8.79135207e-04  4.32236557e-03\n",
      "  5.45197365e-04  7.10713339e-04  1.33331811e-02  1.85921106e-03\n",
      "  3.28537991e-04  2.62649392e-03  3.62784104e-03  4.22158501e-04\n",
      "  1.53053760e-02  2.31305816e-03  1.71104322e-04  2.33140702e-03\n",
      "  4.73934716e-03  1.85334612e-02  4.92142241e-03  3.16060980e-03\n",
      "  3.36322569e-03  9.88182669e-03  2.52207912e-03  2.47978241e-02\n",
      "  1.29683715e-03  8.24175340e-03  8.10398894e-04  1.40390010e-03\n",
      "  1.50948765e-02  4.42762614e-03  1.82979318e-03  3.82699086e-03\n",
      "  2.70054420e-02  8.52823306e-04  1.36347789e-03  1.72390321e-03\n",
      "  7.41761567e-04  7.85078554e-04  2.25366160e-04  4.03873293e-03\n",
      "  8.38775250e-03  3.81448222e-04  6.24748232e-03  8.26749417e-03\n",
      "  1.57313997e-05  1.79973022e-03  9.23455931e-04  1.64806816e-03\n",
      "  1.30052247e-03  3.23074740e-03  1.43826281e-03  1.52956361e-03\n",
      "  1.48735523e-03  1.34059108e-03  2.08552293e-03  9.86567758e-04\n",
      "  1.65788486e-03  1.80209011e-03  8.03790072e-03  5.50345530e-04\n",
      "  2.12704196e-03  1.28783625e-03  1.52008555e-03  1.61969255e-03\n",
      "  7.36878208e-04  6.68004903e-04  5.31076388e-02  8.05271323e-04\n",
      "  6.28449249e-03  3.67462182e-03  1.22415578e-03  3.21580174e-03\n",
      "  8.75610575e-05  9.77143392e-04  1.08798306e-02  2.77900248e-04\n",
      "  1.04293708e-03 -5.17867901e-05  1.42708117e-02  1.73347994e-02\n",
      "  4.17277223e-04  5.16953752e-04  4.97952798e-03  1.20356281e-03\n",
      "  1.61283928e-03  5.20161649e-04  5.75301802e-04  1.48807933e-02\n",
      "  1.21716002e-02  1.81519089e-02  7.13566438e-03  1.57322550e-03\n",
      "  8.55827672e-04  1.00106358e-03  7.44204227e-04  1.14672340e-03\n",
      "  8.23954021e-03  4.36232543e-03  3.96026185e-04  1.42471946e-03\n",
      "  8.05932185e-04  1.58728913e-02  1.11551700e-03  1.50755677e-03\n",
      "  3.94741957e-04  5.25260358e-03  1.67975310e-03  9.96585202e-04\n",
      "  3.23189876e-03  1.86655965e-02  2.26548075e-02  1.53995146e-02\n",
      "  4.99135185e-03  1.08457491e-02  5.90472980e-03  1.15795207e-03\n",
      "  2.89920453e-03  6.10745202e-03  1.83948530e-02  1.10041012e-03\n",
      "  6.68710979e-04  2.51246503e-03  5.31959759e-03  8.23402234e-04\n",
      "  8.49333642e-03  8.20215374e-04  7.75296557e-04  2.81837385e-03\n",
      "  2.26101495e-03  4.66432532e-04  2.59777192e-03  7.90984619e-04\n",
      "  1.71405391e-02  2.05878975e-02  3.14867266e-02  1.74501187e-03\n",
      "  1.05353150e-03  4.57425025e-04  1.94795171e-03  2.99568596e-04\n",
      "  9.09620391e-04  4.00002162e-03  5.60893841e-04  8.17389227e-04\n",
      "  3.17794355e-03  5.17210547e-03  1.60667641e-02  1.06091535e-03\n",
      "  6.99489012e-04  5.11154708e-03  3.42027042e-03  4.89142638e-03\n",
      "  1.90584272e-03  7.22911611e-05  8.37862287e-03  6.70644230e-04\n",
      "  8.26721162e-04  8.50090382e-05  1.99355442e-03  2.02260889e-02\n",
      "  4.29452768e-04  3.71239342e-04  1.16595625e-03  1.72966580e-03\n",
      "  1.27060273e-02  7.76262775e-03  1.54948966e-03  2.00366144e-04]\n"
     ]
    },
    {
     "data": {
      "text/plain": [
       "(array([ 0.,  0.,  0., ..., 11., 21.,  0.]),\n",
       " array([0.        , 0.        , 0.        , ..., 3.31662479, 4.58257569,\n",
       "        0.        ]),\n",
       " array([ 0.        ,  0.        ,  0.        , ..., 19.85741362,\n",
       "        21.1269467 ,  8.38370901]),\n",
       " array([0.        , 0.        , 0.        , ..., 0.68967648, 0.7113813 ,\n",
       "        0.4481281 ]),\n",
       " array([ 0.        ,  0.        ,  0.        , ..., 36.52622127,\n",
       "        36.25692657, 35.98428396]),\n",
       " array([[1.        , 0.        , 0.        , ..., 0.        , 0.        ,\n",
       "         0.        ],\n",
       "        [1.        , 0.        , 0.        , ..., 0.        , 0.        ,\n",
       "         0.        ],\n",
       "        [1.        , 0.        , 0.        , ..., 0.        , 0.        ,\n",
       "         0.        ],\n",
       "        ...,\n",
       "        [0.        , 0.        , 0.        , ..., 0.13205621, 0.12461918,\n",
       "         0.05718821],\n",
       "        [0.        , 0.        , 0.        , ..., 0.1483964 , 0.1522538 ,\n",
       "         0.07442961],\n",
       "        [0.        , 0.        , 0.        , ..., 0.15666651, 0.16733517,\n",
       "         0.08101612]]))"
      ]
     },
     "execution_count": 21,
     "metadata": {},
     "output_type": "execute_result"
    }
   ],
   "source": [
    "# fetch some basic data (they have already been generated)\n",
    "pifile_lst = []\n",
    "bkgpifile_lst = []\n",
    "rmffile_lst = []\n",
    "arffile_lst = []\n",
    "z_lst = []\n",
    "nh_lst = []\n",
    "\n",
    "for i in range(200):\n",
    "    pifile = './data/abspobb/abspobb_spec/%05d_abspobb.pi'%i\n",
    "    with fits.open(pifile) as hdu:\n",
    "        head = hdu[1].header\n",
    "    path = os.path.dirname(pifile)\n",
    "    bkgpifile = os.path.join(path,head['BACKFILE'])\n",
    "    rmffile = os.path.join(path,head['RESPFILE'])\n",
    "    arffile = os.path.join(path,head['ANCRFILE'])\n",
    "    zfile = os.path.join(path,head['ZFILE'])        # file storing redshift\n",
    "    nhfile = os.path.join(path,head['NHFILE'])        # file storing NH\n",
    "    with open(zfile,'r') as f:\n",
    "        z = f.readlines()\n",
    "    z = float(z[0].rstrip())\n",
    "    with open(nhfile,'r') as f:\n",
    "        nh = f.readlines()\n",
    "    nh = float(nh[0].rstrip())\n",
    "\n",
    "    pifile_lst.append(pifile)\n",
    "    bkgpifile_lst.append(bkgpifile)\n",
    "    rmffile_lst.append(rmffile)\n",
    "    arffile_lst.append(arffile)\n",
    "    z_lst.append(z)\n",
    "    nh_lst.append(nh)\n",
    "\n",
    "# run Xstack\n",
    "XstackRunner(\n",
    "    pifile_lst=pifile_lst,                          # PI file list\n",
    "    arffile_lst=arffile_lst,                        # ARF file list\n",
    "    rmffile_lst=rmffile_lst,                        # RMF file list\n",
    "    z_lst=z_lst,                                    # redshift list\n",
    "    bkgpifile_lst=bkgpifile_lst,                    # bkg PI file list\n",
    "    nh_lst=nh_lst,                                  # nh list\n",
    "    srcid_lst=np.arange(200),                       # source ID list (can be arbitary)\n",
    "    arfscal_method='SHP',                           # method to calculate ARF weighting factor for each source (recommended: SHP)\n",
    "    int_rng=(1.0,2.3),                              # if `arfscal_method`=`SHP`, choose the range to calculate flux\n",
    "    rmfsft_method='NONPAR',                         # method to shift RMF\n",
    "    sample_rmf=None,                                # the sample RMF to read input/output energy bin edge (if not specified, the first RMF in `rmffile_lst` will be used)\n",
    "    sample_arf=None,                                # the sample ARF to read input/output energy bin edge (if not specified, the first RMF in `rmffile_lst` will be used)\n",
    "    nh_file=Xstack.default_nh_file,                 # the Galactic absorption profile (absorption factor vs. energy)\n",
    "    Nbkggrp=10,                                     # the number of background groups to calculate uncertainty of background\n",
    "    ene_trc=0.2,                                    # energy below which the ARF is manually truncated (e.g., 0.2 keV for eROSITA)\n",
    "    rm_ene_dsp=True,                                # whether or not to remove the energy dispersion map\n",
    "    usecpu=50,                                      # number of cpus used for RMF shifting\n",
    "    o_pi_name='./data/abspobb/abspobb.pi',              # name of output PI spectrum file\n",
    "    o_bkgpi_name='./data/abspobb/abspobb_bkg.pi',       # name of output background PI spectrum file\n",
    "    o_arf_name='./data/abspobb/abspobb.arf',            # name of output ARF file\n",
    "    o_rmf_name='./data/abspobb/abspobb.rmf',            # name of output RMF file\n",
    "    fene_name='./data/abspobb/abspobb.fene',            # name of output fenergy file\n",
    ").run()"
   ]
  },
  {
   "cell_type": "code",
   "execution_count": 22,
   "metadata": {},
   "outputs": [
    {
     "data": {
      "image/png": "[encoded data removed]",
      "text/plain": [
       "<Figure size 400x400 with 1 Axes>"
      ]
     },
     "metadata": {},
     "output_type": "display_data"
    }
   ],
   "source": [
    "fig, ax1 = plt.subplots(1,1,figsize=(4,4))\n",
    "spec_dir = './data/abspobb'\n",
    "cat = 'abspobb'\n",
    "warnings.filterwarnings('ignore',category=RuntimeWarning)\n",
    "\n",
    "ene_ce,ratio_norm,ratio_err_norm,grpene_ce,grpratio_norm,grpratio_err_norm,Nsrc,norm_fac = get_ratio(spec_dir,cat)\n",
    "\n",
    "ax1.errorbar(ene_ce,ratio_norm*ene_ce**2/16,yerr=(ratio_err_norm/2*ene_ce**2/16),\n",
    "             fmt='o',ms=0.3,lw=0.1,c='gray',alpha=0.5,zorder=-5,label='unbinned spec')\n",
    "ax1.errorbar(grpene_ce,grpratio_norm*grpene_ce**2/16,yerr=(grpratio_err_norm/2*grpene_ce**2/16),\n",
    "             fmt='o-',ms=3.5,lw=0.20,c='k',capsize=0.,elinewidth=1.0,\n",
    "             mec='k',mfc='#f9d7a7',alpha=0.8,zorder=1,label='binned spec')\n",
    "# below 0.3 keV: too few sources; above 8.0 keV: bkg dominated\n",
    "ax1.fill_betweenx(y=[0.5,10], x1=0.2, x2=0.3, color='orange', alpha=0.3, zorder=-1) \n",
    "ax1.fill_betweenx(y=[0.5,10], x1=8.0, x2=10.0, color='orange', alpha=0.3, zorder=-1) \n",
    "\n",
    "ax1.legend(loc='upper right',fontsize=12)\n",
    "ax1.set_xscale('log')\n",
    "ax1.set_xlim(0.2,10)\n",
    "x_ticks = [0.3, 0.5, 1.0, 2.3, 6.0, 8.0]\n",
    "ax1.set_xticks(x_ticks)\n",
    "ax1.set_xticklabels([str(x) for x in x_ticks])\n",
    "ax1.set_xlabel('Energy (keV)',fontsize=12)\n",
    "ax1.tick_params(\"x\",which=\"major\",\n",
    "                length=10,width = 1.0,size=5,labelsize=8,pad=3)\n",
    "ax1.tick_params(\"x\",which=\"minor\",\n",
    "                length=10,width = 1.0,size=5,labelsize=8,pad=3)\n",
    "ax1.set_ylim(0.5,10)\n",
    "ax1.set_yscale('log')\n",
    "y_ticks = [1,10]\n",
    "ax1.set_yticks(y_ticks)\n",
    "ax1.set_yticklabels([str(y) for y in y_ticks])\n",
    "ax1.set_ylabel(r'Normalized $EF_E$',fontsize=12)\n",
    "ax1.tick_params(\"y\",which=\"major\",\n",
    "                length=10,width = 1.0,size=5,labelsize=8)\n",
    "ax1.tick_params(\"y\",which=\"minor\",\n",
    "                length=10,width = 1.0,size=5,labelsize=8)"
   ]
  },
  {
   "cell_type": "markdown",
   "metadata": {},
   "source": [
    "# **3. (optional) Generate some fake spectra**"
   ]
  },
  {
   "cell_type": "markdown",
   "metadata": {},
   "source": [
    "## single powerlaws"
   ]
  },
  {
   "cell_type": "code",
   "execution_count": 24,
   "metadata": {},
   "outputs": [
    {
     "name": "stdout",
     "output_type": "stream",
     "text": [
      "100%|█████████████████████████████████████████| 200/200 [00:04<00:00, 44.01it/s]\n"
     ]
    }
   ],
   "source": [
    "# subprocess.run(['python', './generate_scripts/generate_po.py'],stdin=devnull) # gives wrong HEADER\n",
    "!python ./generate_scripts/generate_po.py"
   ]
  },
  {
   "cell_type": "markdown",
   "metadata": {},
   "source": [
    "## single absorbed powerlaw"
   ]
  },
  {
   "cell_type": "code",
   "execution_count": 7,
   "metadata": {},
   "outputs": [
    {
     "name": "stdout",
     "output_type": "stream",
     "text": [
      "100%|█████████████████████████████████████████| 200/200 [00:05<00:00, 34.30it/s]\n"
     ]
    }
   ],
   "source": [
    "!python ./generate_scripts/generate_abspo.py"
   ]
  },
  {
   "cell_type": "markdown",
   "metadata": {},
   "source": [
    "## primary continuum (powerlaw) + soft excess (bbody)"
   ]
  },
  {
   "cell_type": "code",
   "execution_count": 17,
   "metadata": {},
   "outputs": [
    {
     "name": "stdout",
     "output_type": "stream",
     "text": [
      "100%|█████████████████████████████████████████| 200/200 [00:04<00:00, 46.13it/s]\n"
     ]
    }
   ],
   "source": [
    "!python ./generate_scripts/generate_pobb.py"
   ]
  },
  {
   "cell_type": "markdown",
   "metadata": {},
   "source": [
    "## absorbed primary continuum (powerlaw) + soft excess (bbody)"
   ]
  },
  {
   "cell_type": "code",
   "execution_count": 20,
   "metadata": {},
   "outputs": [
    {
     "name": "stdout",
     "output_type": "stream",
     "text": [
      "100%|█████████████████████████████████████████| 200/200 [00:07<00:00, 26.48it/s]\n"
     ]
    }
   ],
   "source": [
    "!python ./generate_scripts/generate_abspobb.py"
   ]
  },
  {
   "cell_type": "code",
   "execution_count": null,
   "metadata": {},
   "outputs": [],
   "source": []
  }
 ],
 "metadata": {
  "kernelspec": {
   "display_name": "Xstack",
   "language": "python",
   "name": "python3"
  },
  "language_info": {
   "codemirror_mode": {
    "name": "ipython",
    "version": 3
   },
   "file_extension": ".py",
   "mimetype": "text/x-python",
   "name": "python",
   "nbconvert_exporter": "python",
   "pygments_lexer": "ipython3",
   "version": "3.11.9"
  }
 },
 "nbformat": 4,
 "nbformat_minor": 2
}
